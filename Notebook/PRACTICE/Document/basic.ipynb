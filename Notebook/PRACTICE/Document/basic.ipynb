{
 "cells": [
  {
   "cell_type": "markdown",
   "metadata": {},
   "source": [
    "# Use of _ (underscore)\n",
    "In command prompt -- the underscore value contains the previous output\n",
    "example: \n",
    "price=4\n",
    "tax=2\n",
    "print(price) \n",
    "print(price+tax)\n",
    "print(price+_)\n",
    "print(price+_)\n",
    "print(price+_)\n",
    "\n"
   ]
  },
  {
   "cell_type": "code",
   "execution_count": 7,
   "metadata": {},
   "outputs": [
    {
     "name": "stdout",
     "output_type": "stream",
     "text": [
      "(1+4j)\n",
      "(1+4j)\n",
      "(1-4j)\n"
     ]
    }
   ],
   "source": [
    "# complex number\n",
    "# Syntax -- complex(real,imaginary)\n",
    "a=complex(1,4)\n",
    "print(a)\n",
    "a=1+4J  # j or J for imaginary part\n",
    "print(a)\n",
    "# conjugate\n",
    "print(a.conjugate())"
   ]
  },
  {
   "cell_type": "code",
   "execution_count": 11,
   "metadata": {},
   "outputs": [
    {
     "name": "stdout",
     "output_type": "stream",
     "text": [
      "(2, 0)\n",
      "3\n",
      "4\n"
     ]
    }
   ],
   "source": [
    "# Divmod\n",
    "# synatx -- divmod(x,y)  \n",
    "#it means the pair (x//y , x%y) \n",
    "# // -- Floor division\n",
    "\n",
    "a=divmod(4,2)\n",
    "print(a)\n",
    "a=3.7\n",
    "\n",
    "import math\n",
    "print(math.floor(a))\n",
    "print(math.ceil(a))"
   ]
  }
 ],
 "metadata": {
  "kernelspec": {
   "display_name": "Python 3",
   "language": "python",
   "name": "python3"
  },
  "language_info": {
   "codemirror_mode": {
    "name": "ipython",
    "version": 3
   },
   "file_extension": ".py",
   "mimetype": "text/x-python",
   "name": "python",
   "nbconvert_exporter": "python",
   "pygments_lexer": "ipython3",
   "version": "3.11.9"
  }
 },
 "nbformat": 4,
 "nbformat_minor": 2
}
