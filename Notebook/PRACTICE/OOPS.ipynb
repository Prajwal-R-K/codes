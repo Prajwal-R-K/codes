{
 "cells": [
  {
   "cell_type": "markdown",
   "metadata": {},
   "source": [
    "# CREATING CLASS\n",
    "* A class is a collection of objects. A class contains the blueprints or the prototype from which the objects\n",
    "   are being created. It is a logical entity that contains some attributes and methods. \n",
    "* Classes are created by keyword class.\n",
    "* Attributes are the variables that belong to a class.\n",
    "* Attributes are always public and can be accessed using the dot (.) operator. Eg.: Myclass.Myattribute"
   ]
  },
  {
   "cell_type": "code",
   "execution_count": 17,
   "metadata": {},
   "outputs": [
    {
     "name": "stdout",
     "output_type": "stream",
     "text": [
      "2806225928016\n"
     ]
    }
   ],
   "source": [
    "# Creating an Empty class\n",
    "\n",
    "class Empty:\n",
    "    pass        \n",
    "a=Empty()\n",
    "print(id(a))    "
   ]
  },
  {
   "cell_type": "markdown",
   "metadata": {},
   "source": [
    "# pass keyword\n",
    "    The pass statement is essentially a way of saying \"do nothing.\"\n",
    "    The pass statement ensures that the indentation and structure of your code remain valid while allowing you to defer the implementation of  \n",
    "            specific code sections. It's a useful tool during development when you want to create a placeholder for future work.\n",
    "    If some code to be executed, but you haven't implemented that code yet. Using pass allows the code to remain syntactically correct."
   ]
  },
  {
   "cell_type": "code",
   "execution_count": 11,
   "metadata": {},
   "outputs": [
    {
     "name": "stdout",
     "output_type": "stream",
     "text": [
      "<class 'int'>\n",
      "<class 'str'>\n",
      "<class '__main__.Myclass'>\n"
     ]
    }
   ],
   "source": [
    "class Myclass:\n",
    "    def a(self):        #defining method a()\n",
    "        b=10\n",
    "        print(\"MyClass\")\n",
    "obj=Myclass()       #Myclass() calls Default Constructor and we are creating an object(obj) of class(Myclass)\n",
    "int_obj=3           #Integer type\n",
    "str_obj='qwer'      #String type\n",
    "print(type(int_obj))\n",
    "print(type(str_obj))\n",
    "print(type(obj))\n"
   ]
  },
  {
   "cell_type": "markdown",
   "metadata": {},
   "source": [
    "# Python Objects\n",
    "* The object is an entity that has a state and behavior associated with it. It may be any real-world object \n",
    "    like a mouse, keyboard, chair, table, pen, etc. Integers, strings, floating-point numbers, even arrays, and dictionaries, are all objects. More specifically, any single integer or any single string is an object. The number 12 is an object, the string “Hello, world” is an object, a list is an object that can hold other objects, and so on. You’ve been using objects all along and may not even realize it.\n",
    "    An object consists of:\n",
    "\n",
    "* State: It is represented by the attributes of an object. It also reflects the properties of an object.\n",
    "* Behavior: It is represented by the methods of an object. It also reflects the response of an object to other\n",
    "    objects.\n",
    "* Identity: It gives a unique name to an object and enables one object to interact with other objects.\n",
    "    To understand the state, behavior, and identity let us take the example of the class dog (explained above). \n",
    "\n",
    "* The identity can be considered as the name of the dog.\n",
    "* State or Attributes can be considered as the breed, age, or color of the dog.\n",
    "* The behavior can be considered as to whether the dog is eating or sleeping."
   ]
  },
  {
   "cell_type": "markdown",
   "metadata": {},
   "source": [
    "In above \"int\" is class and \"str\" is also class\n",
    "Myclass is also class\n",
    "The difference is \"int\" and \"str\" is Built-in-class and \"Myclass\" is our class(User defined class)\n",
    "int_obj(variable) is object of \"int\"(integer)\n",
    "str_obj(variable) is object of \"str\"(String)"
   ]
  },
  {
   "cell_type": "markdown",
   "metadata": {},
   "source": [
    "# How to access the methods or variables of class\n",
    "    There are two ways as shown in below\n"
   ]
  },
  {
   "cell_type": "code",
   "execution_count": 14,
   "metadata": {},
   "outputs": [
    {
     "name": "stdout",
     "output_type": "stream",
     "text": [
      "Accesed\n",
      "Accesed\n",
      "Accesed\n",
      "Accesed\n",
      "Accesed\n",
      "Accesed\n",
      "4\n"
     ]
    }
   ],
   "source": [
    "class Computer:\n",
    "    def method(self):                   # self is parameter\n",
    "        print(\"Accesed\")\n",
    "a=Computer() # Creating an object of Computer and the reference is stored in a variable of type Computer.\n",
    "b=Computer()\n",
    "Computer.method(a) #Method 1 # Here we are passing b as an argument\n",
    "a.method()       #Method 2 # In this the \"a\" is passeed by default ;here \"a\" is object and object itself is passing an object as an argument.\n",
    "\n",
    "Computer.method(b) #Method 1  # Here we are passing b as an argument  ---  same output as a.method()\n",
    "b.method()       #Method 2 # In this the \"b\" is passeed by default ;here \"b\" is object and object itself is passing an object as an argument\n",
    "\n",
    "Computer().method()  #Method 3\n",
    "c=Computer().method()  #Method 3\n",
    "\n",
    "a=11\n",
    "print(a.bit_length())\n",
    "\n",
    "# In method 2 we are not passing an argument,it is done automatically"
   ]
  },
  {
   "cell_type": "markdown",
   "metadata": {},
   "source": [
    "# The Python self  \n",
    "* Class methods must have an extra first parameter in the method definition. We do not give a value for this\n",
    "    parameter when we call the method, Python provides it.\n",
    "* If we have a method that takes no arguments, then we still have to have one argument.\n",
    "* This is similar to this pointer in C++ and this reference in Java.\n",
    "* When we call a method of this object as myobject.method(arg1, arg2), this is automatically converted by\n",
    "    Python into MyClass.method(myobject, arg1, arg2) – this is all the special self is about.\n",
    "\n",
    " Self represents the instance of the class. By using the “self”  we can access the attributes and methods of the class in Python. It binds the attributes with the given arguments. The reason you need to use self. is because Python does not use the @ syntax to refer to instance attributes. Python decided to do methods in a way that makes the instance to which the method belongs be passed automatically, but not received automatically: the first parameter of methods is the instance the method is called on.\n",
    "\n",
    "### What is the use of self in Python?\n",
    "When working with classes in Python, the term “self” refers to the instance of the class that is currently being used. It is customary to use “self” as the first parameter in instance methods of a class. Whenever you call a method of an object created from a class, the object is automatically passed as the first argument using the “self” parameter. This enables you to modify the object’s properties and execute tasks unique to that particular instance."
   ]
  },
  {
   "cell_type": "markdown",
   "metadata": {},
   "source": [
    "# __init__ Method\n",
    "\n",
    "* The __init__ method is the constructor, which is called when you create an instance of the class(object).\n",
    "* This method is used to initialize the attributes of the object. Keep in mind that the self parameter in the\n",
    "    constructor refers to the instance being created and allows you to access and set its attributes. By following these guidelines, you can create powerful and efficient classes in Python.\n",
    "\n",
    "* self - a reference to the instance being created"
   ]
  },
  {
   "cell_type": "code",
   "execution_count": 25,
   "metadata": {},
   "outputs": [
    {
     "name": "stdout",
     "output_type": "stream",
     "text": [
      "100\n",
      "swedrf 23 0 0 1\n",
      "wert 34 0 1 1\n",
      "fgh 67 0 2 1\n",
      "fgh 67 0 3 1\n",
      "<class 'NoneType'>\n",
      "<class '__main__.Computer'>\n",
      "3\n",
      "0\n",
      "2\n",
      "67\n"
     ]
    }
   ],
   "source": [
    "class Computer:\n",
    "    a=100 # Class Variable\n",
    "    b=2\n",
    "    def __init__(self,name,age,num):\n",
    "        self.a=0 # Instance variable specific to each object\n",
    "        Computer.a=num # Changing class variable\n",
    "        b=1  \n",
    "        self.name=name\n",
    "        self.age=age\n",
    "        print(self.name,self.age,self.a,Computer.a,b)\n",
    "print(Computer.a)\n",
    "a=Computer(\"swedrf\",23,0)\n",
    "b=Computer(\"wert\",34,1)     #  both objects have different self which contain their attributes\n",
    "# c=Computer() #ERROR\n",
    "Computer.__init__(a,\"fgh\",67,2)\n",
    "c=Computer.__init__(a,\"fgh\",67,3)\n",
    "print(type(c))\n",
    "print(type(a))\n",
    "print(Computer.a)\n",
    "print(a.a)\n",
    "print(a.b) # Refers to class Variable\n",
    "print(a.age)\n"
   ]
  },
  {
   "cell_type": "markdown",
   "metadata": {},
   "source": [
    "*  ‘ self ‘ is not a keyword in Python. Self is just a parameter name used in instance methods to refer to the instance itself.\n",
    "\n",
    "##### In a more clear way you can say that SELF has the following Characteristic-\n",
    "\n",
    "* Self: Pointer to Current Object\n",
    "* The self is always pointing to the Current Object. When you create an instance of a class, you’re essentially\n",
    "    creating an object with its own set of attributes and methods."
   ]
  },
  {
   "cell_type": "code",
   "execution_count": 1,
   "metadata": {},
   "outputs": [
    {
     "name": "stdout",
     "output_type": "stream",
     "text": [
      "Address of self =  2021347125008\n",
      "Address of class object =  2021347125008\n"
     ]
    }
   ],
   "source": [
    "\n",
    "class check:\n",
    "    def __init__(self):\n",
    "        print(\"Address of self = \",id(self))\n",
    " \n",
    "obj = check()\n",
    "print(\"Address of class object = \",id(obj))\n",
    "\n",
    "\"\"\"\n",
    "def __init__(x, y):\n",
    "        # This will cause an error because there's no reference to the instance (self)\n",
    "        # to which the attributes (x and y) should be attached.\n",
    "\"\"\""
   ]
  },
  {
   "cell_type": "code",
   "execution_count": 49,
   "metadata": {},
   "outputs": [
    {
     "name": "stdout",
     "output_type": "stream",
     "text": [
      "tyu\n",
      "ERTY\n",
      "3\n"
     ]
    }
   ],
   "source": [
    "class Computer:\n",
    "    a=3\n",
    "    def __init__(self):\n",
    "        a=0\n",
    "        self.name=None\n",
    "a=Computer()\n",
    "b=Computer()\n",
    "a.name='tyu'\n",
    "b.name='ERTY'\n",
    "print(a.name)\n",
    "print(b.name)\n",
    "print(a.a)"
   ]
  },
  {
   "cell_type": "code",
   "execution_count": 3,
   "metadata": {},
   "outputs": [
    {
     "name": "stdout",
     "output_type": "stream",
     "text": [
      "tyu\n",
      "ERTY\n",
      "90\n",
      "67\n",
      "tyu 90\n",
      "ERTY 67\n",
      "tyu 90\n",
      "ERTY 67\n"
     ]
    }
   ],
   "source": [
    "class Computer:\n",
    "    a=3\n",
    "    def method(self):\n",
    "        print(self.name,self.age)\n",
    "a=Computer()\n",
    "b=Computer()\n",
    "a.name='tyu'\n",
    "a.age=90\n",
    "b.name='ERTY'\n",
    "b.age=67\n",
    "print(a.name)\n",
    "print(b.name)\n",
    "print(a.age)\n",
    "print(b.age)\n",
    "a.method()\n",
    "b.method()\n",
    "Computer.method(a)\n",
    "Computer.method(b)"
   ]
  },
  {
   "cell_type": "markdown",
   "metadata": {},
   "source": [
    "# The self Parameter\n",
    "* The self parameter is a reference to the current instance of the class, and is used to access variables that\n",
    "    belongs to the class.\n",
    "* It does not have to be named self , you can call it whatever you like, but it has to be the first parameter\n",
    "    of any function in the class."
   ]
  },
  {
   "cell_type": "code",
   "execution_count": 1,
   "metadata": {},
   "outputs": [
    {
     "name": "stdout",
     "output_type": "stream",
     "text": [
      "Hello my name is John\n"
     ]
    }
   ],
   "source": [
    "class Person:\n",
    "  def __init__(mysillyobject, name, age):\n",
    "    mysillyobject.name = name\n",
    "    mysillyobject.age = age\n",
    "\n",
    "  def myfunc(abc):\n",
    "    print(\"Hello my name is \" + abc.name)\n",
    "\n",
    "p1 = Person(\"John\", 36)\n",
    "p1.myfunc()\n"
   ]
  },
  {
   "cell_type": "markdown",
   "metadata": {},
   "source": [
    "# Delete Object Properties \n",
    "   * You can delete properties on objects by using the del keyword\n",
    "\n",
    "# Delete Objects\n",
    "   * You can delete objects by using the del keyword"
   ]
  },
  {
   "cell_type": "code",
   "execution_count": 28,
   "metadata": {},
   "outputs": [
    {
     "name": "stdout",
     "output_type": "stream",
     "text": [
      "Hello my name is John\n",
      "Hello my name is hfjdkxl\n",
      "None\n",
      "54\n"
     ]
    }
   ],
   "source": [
    "class Person:\n",
    "  def __init__(self, name, age):\n",
    "    self.name = name\n",
    "    self.age = age\n",
    "    a=32\n",
    "\n",
    "  def myfunc(self):\n",
    "    print(\"Hello my name is \" + self.name)  # After complition of this line at default the method will return None\n",
    "\n",
    "p1 = Person(\"John\", 36)\n",
    "p2=Person(\"cilli\",54)\n",
    "p1.myfunc()\n",
    "c=Person(\"hfjdkxl\",8).myfunc()\n",
    "print(c)\n",
    "\n",
    "del p1.age    # Delete Object Properties \n",
    "# print(p1.age)    --- ERROR    \n",
    "\n",
    "del p1\n",
    "# print(p1)    ----- ERROR\n",
    "print(p2.age)                                                         "
   ]
  },
  {
   "cell_type": "markdown",
   "metadata": {},
   "source": [
    "# Python Inheritance\n",
    "* Inheritance allows us to define a class that inherits all the methods and properties from another class.\n",
    "* Parent class is the class being inherited from, also called base class.\n",
    "* Child class is the class that inherits from another class, also called derived class."
   ]
  },
  {
   "cell_type": "markdown",
   "metadata": {},
   "source": [
    "# Create a Parent Class\n",
    "* Any class can be a parent class, so the syntax is the same as creating any other class\n",
    "\n",
    "# Create a Child Class\n",
    "* To create a class that inherits the functionality from another class, send the parent class as a parameter \n",
    "    when creating the child class\n"
   ]
  },
  {
   "cell_type": "code",
   "execution_count": 29,
   "metadata": {},
   "outputs": [
    {
     "name": "stdout",
     "output_type": "stream",
     "text": [
      "Mike Olsen\n"
     ]
    }
   ],
   "source": [
    "class Person:\n",
    "  def __init__(self, fname, lname):\n",
    "    self.firstname = fname\n",
    "    self.lastname = lname\n",
    "\n",
    "  def printname(self):\n",
    "    print(self.firstname, self.lastname)\n",
    "\n",
    "class Student(Person):\n",
    "  pass\n",
    "\n",
    "x = Student(\"Mike\", \"Olsen\")\n",
    "x.printname()\n"
   ]
  },
  {
   "cell_type": "markdown",
   "metadata": {},
   "source": [
    "* When you add the __init__() function, the child class will no longer inherit the parent's __init__() function.\n",
    "* Note: The child's __init__() function overrides the inheritance of the parent's __init__() function.\n",
    "* To keep the inheritance of the parent's __init__() function, add a call to the parent's __init__() function"
   ]
  },
  {
   "cell_type": "code",
   "execution_count": 33,
   "metadata": {},
   "outputs": [
    {
     "name": "stdout",
     "output_type": "stream",
     "text": [
      "Mike Olsen\n"
     ]
    }
   ],
   "source": [
    "class Person:\n",
    "  def __init__(self, fname, lname):\n",
    "    self.firstname = fname\n",
    "    self.lastname = lname\n",
    "\n",
    "  def printname(self):\n",
    "    print(self.firstname, self.lastname)\n",
    "\n",
    "class Student(Person):\n",
    "  def __init__(self, fname, lname):\n",
    "    Person.__init__(self,fname,lname)\n",
    "\n",
    "x = Student(\"Mike\", \"Olsen\")\n",
    "x.printname()\n"
   ]
  },
  {
   "cell_type": "markdown",
   "metadata": {},
   "source": [
    "# Use the super() Function\n",
    "* Python also has a super() function that will make the child class inherit all the methods and properties from\n",
    "    its parent.\n",
    "* By using the super() function, you do not have to use the name of the parent element, it will automatically\n",
    "    inherit the methods and properties from its parent."
   ]
  },
  {
   "cell_type": "code",
   "execution_count": 34,
   "metadata": {},
   "outputs": [
    {
     "name": "stdout",
     "output_type": "stream",
     "text": [
      "Mike Olsen\n"
     ]
    }
   ],
   "source": [
    "class Person:\n",
    "  def __init__(self, fname, lname):\n",
    "    self.firstname = fname\n",
    "    self.lastname = lname\n",
    "\n",
    "  def printname(self):\n",
    "    print(self.firstname, self.lastname)\n",
    "\n",
    "class Student(Person):\n",
    "  def __init__(self, fname, lname):\n",
    "    super().__init__(fname, lname)\n",
    "\n",
    "x = Student(\"Mike\", \"Olsen\")\n",
    "x.printname()\n",
    "# By using the super() function, you do not have to use the name of the parent element, \n",
    "# it will automatically inherit the methods and properties from its parent."
   ]
  },
  {
   "cell_type": "code",
   "execution_count": 54,
   "metadata": {},
   "outputs": [
    {
     "name": "stdout",
     "output_type": "stream",
     "text": [
      "12\n",
      "Mike Olsen\n",
      "Mike Olsen\n",
      "wdsd\n",
      "12\n"
     ]
    }
   ],
   "source": [
    "class Person:\n",
    "  def __init__(self, fname, lname):\n",
    "    self.firstname = fname\n",
    "    self.lastname = lname\n",
    "\n",
    "  def printname(self):\n",
    "    print(self.firstname, self.lastname)\n",
    "\n",
    "class Student(Person):\n",
    "  def __init__(self, fname, lname, year):\n",
    "    super().__init__(fname, lname)\n",
    "    self.graduationyear = 12\n",
    "\n",
    "x = Student(\"Mike\", \"Olsen\", 2019)\n",
    "print(x.graduationyear)\n",
    "x.printname()\n",
    "Student.printname(x)\n",
    "print(Student(\"wdsd\",\"sjfh\",35).firstname)\n",
    "print(Student(\"wdsd\",\"sjfh\",35).graduationyear)\n",
    "# print(Person(\"edui\",\"iufvi\").graduationyear)  --- ERROR"
   ]
  },
  {
   "cell_type": "code",
   "execution_count": 73,
   "metadata": {},
   "outputs": [
    {
     "name": "stdout",
     "output_type": "stream",
     "text": [
      "Super Class\n",
      "Welcome Mike Olsen to the class of 2019\n",
      "Super Class\n",
      "Mike Olsen\n",
      "Mike Olsen\n",
      "Mike Olsen\n",
      "qwe rtry\n"
     ]
    }
   ],
   "source": [
    "class Person:\n",
    "  def __init__(self, fname, lname):\n",
    "    self.firstname = fname\n",
    "    self.lastname = lname\n",
    "\n",
    "  def printname(self):\n",
    "    print(self.firstname, self.lastname)\n",
    "\n",
    "  def welcome(self_):\n",
    "    print(\"Super Class\")\n",
    "\n",
    "class Student(Person):\n",
    "  def __init__(self, fname, lname, year):\n",
    "    super().__init__(fname, lname)\n",
    "    self.graduationyear = year\n",
    "\n",
    "  def welcome(self):\n",
    "    super().welcome()\n",
    "    print(\"Welcome\", self.firstname, self.lastname, \"to the class of\", self.graduationyear)\n",
    "    super().welcome()\n",
    "x = Student(\"Mike\", \"Olsen\", 2019)\n",
    "x.welcome()\n",
    "x.printname()\n",
    "Person.printname(x)\n",
    "Student.printname(x)\n",
    "Student(\"qwe\",\"rtry\",456).printname()\n"
   ]
  },
  {
   "cell_type": "markdown",
   "metadata": {},
   "source": [
    "# Python Iterators\n",
    "* An iterator is an object that contains a countable number of values.\n",
    "* An iterator is an object that can be iterated upon, meaning that you can traverse through all the values.\n",
    "* Technically, in Python, an iterator is an object which implements the iterator protocol, which consist of the\n",
    "    methods __iter__() and __next__()"
   ]
  },
  {
   "cell_type": "code",
   "execution_count": 2,
   "metadata": {},
   "outputs": [
    {
     "name": "stdout",
     "output_type": "stream",
     "text": [
      "apple\n",
      "banana\n",
      "cherry\n"
     ]
    }
   ],
   "source": [
    "mytuple = (\"apple\", \"banana\", \"cherry\")\n",
    "myit = iter(mytuple)\n",
    "\n",
    "print(next(myit))\n",
    "print(next(myit))\n",
    "print(next(myit))"
   ]
  },
  {
   "cell_type": "markdown",
   "metadata": {},
   "source": [
    "# Strings\n",
    "* Even strings are iterable objects, and can return an iterator\n",
    "* Strings are also iterable objects, containing a sequence of characters\n",
    "## Looping Through an Iterator\n",
    "* We can also use a for loop to iterate through an iterable object"
   ]
  },
  {
   "cell_type": "code",
   "execution_count": 19,
   "metadata": {},
   "outputs": [
    {
     "name": "stdout",
     "output_type": "stream",
     "text": [
      "b\n",
      "a\n",
      "n\n",
      "a\n",
      "n\n",
      "a\n",
      "\n",
      "apple\n",
      "banana\n",
      "cherry\n",
      "\n",
      "apple\n",
      "banana\n",
      "cherry\n",
      "\n",
      "<tuple_iterator object at 0x0000016E189D85B0>\n",
      "apple\n",
      "banana\n",
      "cherry\n"
     ]
    }
   ],
   "source": [
    "mystr = \"banana\"\n",
    "myit = iter(mystr)\n",
    "\n",
    "print(next(myit))\n",
    "print(next(myit))\n",
    "print(next(myit))\n",
    "print(next(myit))\n",
    "print(next(myit))\n",
    "print(next(myit))\n",
    "\n",
    "\n",
    "# for loop\n",
    "# Iterate the values of a tuple:\n",
    "mytuple = (\"apple\", \"banana\", \"cherry\")\n",
    "\n",
    "print()\n",
    "for x in mytuple:\n",
    "  print(x) \n",
    "\n",
    "print()\n",
    "for i in range(len(mytuple)):\n",
    "  print(mytuple[i])\n",
    "\n",
    "print()\n",
    "myiter=iter(mytuple)\n",
    "print(myiter)\n",
    "for i in range(len(mytuple)):\n",
    "  print(next(myiter))\n"
   ]
  }
 ],
 "metadata": {
  "kernelspec": {
   "display_name": "Python 3",
   "language": "python",
   "name": "python3"
  },
  "language_info": {
   "codemirror_mode": {
    "name": "ipython",
    "version": 3
   },
   "file_extension": ".py",
   "mimetype": "text/x-python",
   "name": "python",
   "nbconvert_exporter": "python",
   "pygments_lexer": "ipython3",
   "version": "3.11.8"
  }
 },
 "nbformat": 4,
 "nbformat_minor": 2
}
