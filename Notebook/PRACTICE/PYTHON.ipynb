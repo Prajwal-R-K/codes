{
 "cells": [
  {
   "cell_type": "markdown",
   "metadata": {},
   "source": [
    "# format()\n",
    "Syntax- format(value,specifiers)\n",
    "                        value indicate which value you want to alter\n",
    "                        specifiers inicates that how you want to alter"
   ]
  },
  {
   "cell_type": "code",
   "execution_count": 1,
   "metadata": {},
   "outputs": [
    {
     "name": "stdout",
     "output_type": "stream",
     "text": [
      "0.8888888888888888\n",
      "0.889\n"
     ]
    }
   ],
   "source": [
    "a=8/9\n",
    "print(a)\n",
    "print(format(a,\".3f\"))\n",
    "# format is also used for string Justification"
   ]
  },
  {
   "cell_type": "code",
   "execution_count": null,
   "metadata": {},
   "outputs": [],
   "source": [
    "text=\"python\"\n",
    "print(text.count(text))\n",
    "#   print(\"Hello\n",
    " #     World\")     # SHOWS ERROR\n",
    "print(\"Hello\"\n",
    "      \"World\")   # Implicit line joining method---In the single line the number of open quotes should be equal to close quotes\n",
    "print(\"Hello\\\n",
    "   World\")       # Explicit line joining method--- We use \\(slash)\n",
    "x = \"Python is \"\n",
    "y = \"awesome\"\n",
    "z =  x + y\n",
    "print(z)"
   ]
  },
  {
   "cell_type": "markdown",
   "metadata": {},
   "source": [
    "## Operator\n",
    "#### Based on OPERAND\n",
    "    Unary operator --- Contains only one operand\n",
    "    Binary operator --- Contains two operand\n",
    "#### Based on  OPERATOR\n",
    "    Arithemetic operator -- there are 8 operator\n",
    "    Relational operator --- there are 6 operator\n",
    "    Membership operator --- \"in\" and \"not in\"\n",
    "    Boolean operator    --- \"and\" , \"or\" , \"not\""
   ]
  },
  {
   "cell_type": "markdown",
   "metadata": {},
   "source": [
    "# Get the Unicode (Ascii code)\n",
    "  Syntax - ord(character)"
   ]
  },
  {
   "cell_type": "code",
   "execution_count": null,
   "metadata": {},
   "outputs": [],
   "source": [
    "char = 'A'\n",
    "unicode_code_point = ord(char)\n",
    "print(f\"The Unicode code point of '{char}' is {unicode_code_point}\")"
   ]
  },
  {
   "cell_type": "markdown",
   "metadata": {},
   "source": [
    "# Get the address of variable(Object)\n",
    "### id(variale)\n",
    "    The id() function in Python is used to get the identity (memory address) of an object. \n",
    "    It returns a unique identifier for the object"
   ]
  },
  {
   "cell_type": "code",
   "execution_count": null,
   "metadata": {},
   "outputs": [],
   "source": [
    "x = 42\n",
    "y = 42\n",
    "z = 23\n",
    "print(id(x))  \n",
    "print(id(y)) \n",
    "print(id(z))\n",
    "print(id(78)) # The number 78 is an object of the int class, which represents integers"
   ]
  },
  {
   "cell_type": "markdown",
   "metadata": {},
   "source": [
    "# GLOBAL VARIABLES\n",
    "    * Variables that are created outside of a function  are known as global variables.\n",
    "    * Global variables can be used by everyone, both inside of functions and outside.\n",
    "    * If you create a variable with the same name inside a function, this variable will be local, and can only be used inside the   function.   \n",
    "      The global variable with the same name will remain as it was, global and with the original value.(BELOW THERE IS AN EXAMPLE)\n",
    "    * Normally, when you create a variable inside a function, that variable is local, and can only be used inside that function.\n",
    "    * To create a global variable inside a function, you can use the global keyword.\n",
    "\n",
    "    * Same way if we created List in outside the function and with the same name if create inside a function then global list remains same\n",
    "    * We can change the elements of list(global variable) in inside the function(in local) -- it will reflect the original (Makes changes in     \n",
    "      original list)"
   ]
  },
  {
   "cell_type": "code",
   "execution_count": null,
   "metadata": {},
   "outputs": [],
   "source": [
    "x = \"awesome\"\n",
    "y=[1,2,3]\n",
    "def myfunc():\n",
    "  x = \"fantastic\"\n",
    "  y=[5,6,7]  \n",
    "  y[0]=65  # The changes will reflect only in the inside function y(local y)\n",
    "  # To make changes in gloabal y dont declare the  variale with the same name\n",
    "  print(\"Python is \" + x)\n",
    "  print(\"Local y=\",y)\n",
    "print('\"Trying to change global variable in local Scope\"')\n",
    "myfunc()\n",
    "print(\"Python is \" + x) \n",
    "print(\"global y\",y)\n",
    "print()\n",
    "\n",
    "\n",
    "x = \"awesome\"\n",
    "z=[1,2,3]\n",
    "def myfunc():\n",
    "  global x,y\n",
    "  y=[5,6,7]\n",
    "  z[0]=100\n",
    "  x = \"fantastic\"\n",
    "  print(\"Local y=\",y)\n",
    "  print(\"Python is \" + x)\n",
    "print('\\n\"After making the variable as Global inside the function using global keyword\"')\n",
    "myfunc()\n",
    "print(\"Python is \" + x) \n",
    "print(y)\n",
    "print(\"global z=\",z)"
   ]
  },
  {
   "cell_type": "markdown",
   "metadata": {},
   "source": [
    "# Types of data Type---Built-in-DataTypes\n",
    "Text Type:      str\n",
    "Numeric Types:  int, float, complex\n",
    "Sequence Types: list, tuple, range\n",
    "Mapping Type:   dict\n",
    "Set Types:      set, frozenset\n",
    "Boolean Type:   bool\n",
    "Binary Types:   bytes, bytearray, memoryview"
   ]
  },
  {
   "cell_type": "code",
   "execution_count": null,
   "metadata": {},
   "outputs": [],
   "source": [
    "n=9\n",
    "a=range(n)\n",
    "b=list(a)\n",
    "c=complex(2,3)  \n",
    "d=dict(l=123,m=\"name\",_=\"age\")\n",
    "e=2+5j  # We can't use i\n",
    "\n",
    "print(a)\n",
    "print(b)\n",
    "print(c)\n",
    "print(d)\n",
    "print(e)\n",
    "for i in a:\n",
    "    print(i)"
   ]
  },
  {
   "cell_type": "markdown",
   "metadata": {},
   "source": [
    "# Working on bytes\n",
    "##### memoryview() function \n",
    "        It is used to create a memory view object that exposes an array's buffer interface. It allows you to access the internal data of an object without copying it\n",
    "        Objects such as bytes, bytearrays, and arrays can be passed to memoryview().\n",
    "##### encode\n",
    "        The encode() method is used to transform a string into a sequence of bytes, also known as encoding\n",
    "##### decode\n",
    "         The decode() method is used to convert a sequence of bytes into a string. \n",
    "         This is the reverse process of encoding,(enocodeing - where characters are represented as bytes.)\n",
    "    "
   ]
  },
  {
   "cell_type": "code",
   "execution_count": null,
   "metadata": {},
   "outputs": [],
   "source": [
    "a=bool(9);b=bool(0);c=bool(-2)\n",
    "print(a,b,c)\n",
    "\n",
    "a=b'Hello, world!'  # or a=a.encode()\n",
    "print(a)\n",
    "\n",
    "a=bytes(b\"Hello, world!\");b=bytes(5)            # b=bytes('5')  -- SHOWS an ERROR\n",
    "print(a,'   ',b)\n",
    "a=bytes(\"Hello, World!\".encode())   # or a=bytes(\"Hello, World!\".encode('utf-8'))  # SAME RESULT\n",
    "print(a)\n",
    "print(type(a))\n",
    "print(a.decode())\n",
    "\n",
    "a = bytearray('Hello, World!'.encode('utf-8'))      \n",
    "# a=bytearray('Hello, World!')   # SHOWS an ERROR\n",
    "b=bytearray(5)\n",
    "print(a,'   ',b)\n",
    "print(type(b))\n",
    "print(a.decode())\n",
    "\n",
    "c=memoryview(a)\n",
    "d=memoryview(b)\n",
    "print(c,\"\\n\"+str(d));\n",
    "print(type(d))\n",
    "\n",
    "k=b'ABC'      \n",
    "a=bytes(k)\n",
    "print(a[0],a[1],a[2])  # ascii code\n",
    "\n",
    "a=bytearray(k)\n",
    "print(a[0],a[1],a[2])   # ascii code\n",
    "a[0]=ord('M')\n",
    "print(k)\n",
    "print(a)\n",
    "\n",
    "c=memoryview(a)\n",
    "print(c[0],c[1],c[2])   # ascii code\n",
    "c[0]=ord('M')\n",
    "print(a)\n",
    "print(c)\n"
   ]
  },
  {
   "cell_type": "markdown",
   "metadata": {},
   "source": [
    "### why we used \"b\" in above 3rd line'b' (a=bytes(b\"Hello, world!\") ) \n",
    "    'b' prefix before a string literal indicates that the string should be treated as a sequence of bytes rather than as a sequence of Unicode characters. When you use the b prefix, you are creating a bytes literal.\n",
    "\n",
    "    In this case, the b'Hello, World!' represents a bytes literal. It is essentially a sequence of bytes corresponding to the ASCII or UTF-8 encoding of the characters in the string."
   ]
  },
  {
   "cell_type": "code",
   "execution_count": null,
   "metadata": {},
   "outputs": [],
   "source": [
    "# Create a bytearray\n",
    "my_bytes = bytearray(b'Hello, World!')\n",
    "print(my_bytes.decode()) \n",
    "\n",
    "# Create a memory view object\n",
    "view = memoryview(my_bytes)\n",
    "\n",
    "# Access elements in the memory view\n",
    "print(view[0])    # Output: 72 (ASCII code for 'H')\n",
    "print(view[7])    # Output: 87 (ASCII code for 'W')\n",
    "\n",
    "# Modify elements in the memory view\n",
    "view[7] = 65      # Change 'W' to 'A'\n",
    "print(my_bytes)   # Output: bytearray(b'Hello, Aorld!')\n",
    "print(my_bytes.decode()) \n"
   ]
  },
  {
   "cell_type": "markdown",
   "metadata": {},
   "source": [
    "# IN ABOVE\n",
    "# my_bytes\n",
    "    The my_bytes variable is an object of the bytearray type. A bytearray in Python is a mutable sequence of bytes. It is similar to a regular bytes object, but it can be modified after creation. In this case, it is initialized with the bytes representing the string 'Hello, World!'.\n",
    "# view\n",
    "    The view variable is an object of the memoryview type. The memoryview function is used to create a view of the underlying memory of the my_bytes bytearray. This view allows you to access and manipulate the data in my_bytes without creating a new object or copying the data.\n",
    "\n",
    "    So, in this context, view is a memoryview object associated with the my_bytes bytearray, providing a way to interact with the underlying memory of the bytearray."
   ]
  },
  {
   "cell_type": "markdown",
   "metadata": {},
   "source": [
    "# dir() Function\n",
    "        The dir() function returns all properties and methods of the specified object, without the values.\n",
    "        This function will return all the properties and methods, even built-in properties which are default for all object.\n",
    "        SYNTAX\n",
    "           dir(object)"
   ]
  },
  {
   "cell_type": "code",
   "execution_count": null,
   "metadata": {},
   "outputs": [],
   "source": [
    "class Person:\n",
    "  name = \"John\"\n",
    "  age = 36\n",
    "  country = \"Norway\"\n",
    "a=Person()\n",
    "print(dir(Person))\n",
    "print(help(Person))\n",
    "print(\"\\n\")\n",
    "print(dir(a))\n",
    "print(help(a))\n",
    "#print(Person.__doc__)  # Output: Docstring of the class\n",
    "#print(Person.__class__) \n",
    "print(type(Person))\n",
    "print(type(a))"
   ]
  },
  {
   "cell_type": "markdown",
   "metadata": {},
   "source": [
    "# string\n",
    "    strings are immutable, meaning that their contents cannot be changed after they are created.\n",
    "    You cannot modify individual characters in a string directly. However, you can create a new string with the desired changes.\n",
    "\n",
    "    During string casting (eg. str(3456) ) it will call the constructor of one argument - Here 3456 is argument"
   ]
  },
  {
   "cell_type": "code",
   "execution_count": null,
   "metadata": {},
   "outputs": [],
   "source": [
    "a=str()\n",
    "b=\"ABCDE\"\n",
    "print(len(b))\n",
    "print(len(a))\n"
   ]
  },
  {
   "cell_type": "markdown",
   "metadata": {},
   "source": [
    "# BUILT-IN-METHODS\n",
    "\n",
    "1. **Stripping Whitespace:**\n",
    "    - [strip](#strip): Returns a copy of the string with leading and trailing whitespace removed.\n",
    "    - [rstrip](#rstrip): Returns a copy of the string with trailing whitespace removed.\n",
    "    - [lstrip](#lstrip): Returns a copy of the string with leading whitespace removed.\n",
    "\n",
    "2. **Justification:**\n",
    "    - [center](#center): Returns a centered version of the string.\n",
    "    - [ljust](#ljust): Returns a left-justified version of the string.\n",
    "    - [rjust](#rjust): Returns a right-justified version of the string.\n",
    "\n",
    "3. **Finding Substrings:**\n",
    "    - [find](#find): Returns the lowest index of a substring.\n",
    "    - [rfind](#rfind): Returns the highest index of a substring.\n",
    "    - [index](#index): Returns the lowest index of a substring.\n",
    "    - [rindex](#rindex): Returns the highest index of a substring.\n",
    "\n",
    "4. **Counting Substrings:**\n",
    "    - [count](#count): Returns the number of occurrences of a substring.\n",
    "\n",
    "5. **Checking Prefix and Suffix:** \n",
    "    - [startswith](#startswith): Checks if the string starts with a specified prefix.(Returns True or False)\n",
    "    - [endswith](#endswith): Checks if the string ends with a specified suffix. (Returns True or False)\n",
    "\n",
    "6. **Case Transformation:**\n",
    "    - [capitalize](#capitalize): Returns a copy of the string with its first character capitalized.\n",
    "    - [casefold](#casefold): Returns a casefolded version of the string for case-insensitive comparisons.\n",
    "    - [lower](#lower): Returns a copy of the string with all characters in lowercase.\n",
    "    - [swapcase](#swapcase): Swaps the case of each character in the string. (If character is in uppercase then swap into lowercase (or) If character is in lowercase then swap into uppercase)\n",
    "    - [title](#title): Returns a titlecased version of the string. (Returns a string that each word starts with Uppercase)\n",
    "    - [upper](#upper): Returns a copy of the string with all characters in uppercase.\n",
    "\n",
    "7. **Character Classification:**\n",
    "    ### Returns True or Flase\n",
    "    - [isalnum](#isalnum): Checks if all characters are alphanumeric(Either alphabets or numbers).\n",
    "    - [isalpha](#isalpha): Checks if all characters are alphabetic.\n",
    "    - [isascii](#isascii): Checks if all characters are ASCII.\n",
    "    - [isdecimal](#isdecimal): Checks if all characters are decimal.\n",
    "    - [isdigit](#isdigit): Checks if all characters are digits.\n",
    "    - [isidentifier](#isidentifier): Checks if the string is a valid identifier.\n",
    "    - [islower](#islower): Checks if all characters are lowercase.\n",
    "    - [isnumeric](#isnumeric): Checks if all characters are numeric.\n",
    "    - [isprintable](#isprintable): Checks if all characters are printable.\n",
    "    - [isspace](#isspace): Checks if all characters are whitespaces.\n",
    "    - [istitle](#istitle): Checks if the string is titlecased.\n",
    "    - [isupper](#isupper): Checks if all characters are uppercase.\n",
    "\n",
    "8. **Encoding and Translation:**\n",
    "    - [encode](#encode): Returns an encoded version of the string.\n",
    "    - [maketrans](#maketrans): Creates a translation table.\n",
    "    - [translate](#translate): Applies a translation table to the string.\n",
    "\n",
    "9. **Formatting:**\n",
    "    - [format](#format): Formats the string.\n",
    "    - [format_map](#format_map): Formats the string using a mapping.\n",
    "\n",
    "10. **Joining and Splitting:**\n",
    "    - [join](#join): Joins elements of an iterable into a string.\n",
    "    - [partition](#partition): Returns a tuple containing three parts of the string.\n",
    "    - [rpartition](#rpartition): Returns a tuple containing three parts of the string.\n",
    "    - [rsplit](#rsplit): Splits the string into a list of substrings, starting from the right.\n",
    "    - [split](#split): Splits the string into a list of substrings.\n",
    "    - [splitlines](#splitlines): Splits the string at line breaks.\n",
    "\n",
    "11. **Prefix and Suffix Manipulation:**\n",
    "    - [removeprefix](#removeprefix): Removes a specified prefix from the string.\n",
    "    - [removesuffix](#removesuffix): Removes a specified suffix from the string.\n",
    "\n",
    "12. **Numeric String Padding:**\n",
    "    - [zfill](#zfill): Pads a numeric string with zeros on the left.\n"
   ]
  },
  {
   "cell_type": "markdown",
   "metadata": {},
   "source": [
    "1. **Striping Whitespaces**\n",
    "2. ***Justification***\n",
    "3. **Finding SubString**\n",
    "4. ***Counting Substring***"
   ]
  },
  {
   "cell_type": "code",
   "execution_count": null,
   "metadata": {},
   "outputs": [],
   "source": [
    "\"\"\"Stripping Whitespace:\n",
    "SYNTAX: str.strip()\n",
    "        str.lstrip()\n",
    "        str.rstrip() \"\"\"\n",
    "# Strip method take 1 argument\n",
    "# To remove any PUNCTUATION MARKS we use argument (string.punctuation)\n",
    "\"\"\"import string\n",
    "print(string.punctuation)  #Output is --  !\"#$%&'()*+,-./:;<=>?@[\\]^_`{|}~\n",
    "\"\"\"\n",
    "print(\"STRIPPING\")\n",
    "text = \"   hello   \"\n",
    "print(\"ORIGINAL STRING - \",text)\n",
    "\n",
    "result = text.strip()\n",
    "print(\"strip-\",result)  \n",
    "\n",
    "result = text.rstrip()\n",
    "print(\"rstrip-\",result) \n",
    "\n",
    "result = text.lstrip()\n",
    "print(\"lstrip-\",result) \n",
    "\n",
    "\n",
    "\"\"\"Justification\n",
    "SYNTAX: str.center(width,fillchar)\n",
    "        str.ljust(width,fillchar)\n",
    "        str.rjust(width,fillchar)\n",
    "        \n",
    "width: The total width of the (centered) or (left-justified) or (right-justified) string.\n",
    "fillchar (optional): The character(ONLY ONE CHARACTER) used for filling the remaining space. Default is a space.\"\"\"\n",
    "print()\n",
    "print(\"JUSTIFICATION\")\n",
    "text = \"hello\"\n",
    "print(\"ORIGINAL STRING - \",text)\n",
    "\n",
    "result = text.center(10, \"*\")\n",
    "print(\"center-\",result) \n",
    "\n",
    "result = text.ljust(10, \"*\")\n",
    "print(\"ljust-\",result)  \n",
    "\n",
    "result = text.rjust(10, \"*\")\n",
    "print(\"rjust-\",result)  \n",
    "\n",
    "\n",
    "\"\"\"Finding Substrings\n",
    "SYNTAX: str.find(substring) \n",
    "        str.rfind(substring) \n",
    "        str.index(substring)\n",
    "        str.rindex(substring)  \"\"\"\n",
    "print()\n",
    "print(\"FINDING SUBSTRING\")\n",
    "text = \"hello world\"\n",
    "print(\"ORIGINAL STRING - \",text)\n",
    "\n",
    "result = text.find(\"l\")\n",
    "print(\"find-\",result)  \n",
    "\n",
    "result = text.rfind(\"l\")\n",
    "print(\"rfind-\",result)  \n",
    "\n",
    "result = text.index(\"world\")\n",
    "print(\"index-\",result) \n",
    "\n",
    "result = text.rindex(\"h\")\n",
    "print(\"rindex-\",result) \n",
    "\n",
    "\"\"\"Counting Substring\n",
    "SYNTAX:str.count(substring) \"\"\"\n",
    "print(\"COUNTING SUBSTRING\")\n",
    "print()\n",
    "text = \"hello hello\"\n",
    "print(\"ORIGINAL STRING\")\n",
    "result = text.count(\"l\")\n",
    "print(\"count-\",result)  \n"
   ]
  },
  {
   "cell_type": "code",
   "execution_count": null,
   "metadata": {},
   "outputs": [],
   "source": [
    "# strip()\n",
    "import string\n",
    "text=\",,,,,,,Hello,,,,,,//,,,,\"\n",
    "# print(string.punctuation)\n",
    "\n",
    "\n",
    "print(\"STRIPPING Particular mark(or character)\")\n",
    "\n",
    "print(\"ORIGINAL STRING - \",text)\n",
    "\n",
    "result = text.strip(string.punctuation)  # Any character of String(string.punctuation) can be strioed in text \n",
    "print(\"strip-\",result)  \n",
    "\n",
    "result = text.strip(\"Ho/,\")\n",
    "print(\"strip-\",result) \n",
    "\n",
    "result = text.rstrip(string.punctuation)\n",
    "print(\"rstrip-\",result) \n",
    "\n",
    "result = text.lstrip(string.punctuation)\n",
    "print(\"lstrip-\",result) "
   ]
  },
  {
   "cell_type": "markdown",
   "metadata": {},
   "source": [
    "5. ***Checking Prefix and Suffix***\n",
    "6. ***Case Transformation***"
   ]
  },
  {
   "cell_type": "code",
   "execution_count": null,
   "metadata": {},
   "outputs": [],
   "source": [
    "\"\"\" Checking Prefix and Suffix\n",
    "SYNTAX: str.startswith(substring) \n",
    "        str.endswith(substring)\"\"\"\n",
    "print(\"Checking Prefix and Suffix\")\n",
    "text = \"hello world\"\n",
    "print(\"ORIGINAL STRING-\",text)\n",
    "result = text.startswith(\"hello\")\n",
    "print(\"startswith-\",result)  \n",
    "result =text.endswith(\"world\")\n",
    "print(\"endswith-\",result)  \n",
    "\n",
    "\n",
    "\"\"\" Case Transformation\n",
    "SYNTAX: str.capitalize()\n",
    "        str.casefold()\n",
    "        str.lower()\n",
    "        str.swapcase()\n",
    "        str.tittle()\n",
    "        str.upper()\"\"\"\n",
    "print()\n",
    "print(\"Case Transformation\")\n",
    "text = \"HELLO world\"\n",
    "print(\"ORIGINAL STRING-\",text)\n",
    "result = text.capitalize()\n",
    "print(\"Capitalize-\",result) \n",
    "\n",
    "text2=\"ß\"\n",
    "result=text.casefold()\n",
    "result2 = text2.casefold()\n",
    "print(\"Casefold -\",result)  \n",
    "print(\"Casefold of 'ß'-\",result2)  \n",
    "\n",
    "result = text.lower()\n",
    "print(\"Lower-\",result)  \n",
    "\n",
    "result = text.swapcase()\n",
    "print(\"swapcase-\",result)  \n",
    "\n",
    "result = text.title()\n",
    "print(\"Title-\",result)  \n",
    "\n",
    "result = text.upper()\n",
    "print(\"Upper-\",result) "
   ]
  },
  {
   "cell_type": "markdown",
   "metadata": {},
   "source": [
    "7. ***Character Classification***"
   ]
  },
  {
   "cell_type": "code",
   "execution_count": null,
   "metadata": {},
   "outputs": [],
   "source": [
    "\"\"\" Character Classification\n",
    "SYNTAX: str.isalnum()\n",
    "        str.isalpha()\n",
    "        str.isascii()\n",
    "        str.isdecimal()\n",
    "        str.isdigit()\n",
    "        str.isidentifier()\n",
    "        str.islower()\n",
    "        str.isnumeric()\n",
    "        str.isprintable()\n",
    "        str.isspace()\n",
    "        str.istitle()\n",
    "        str.isupper() \"\"\"\n",
    "text = \"Hello123\"\n",
    "print(\"ORIGINAL STRING-\",text)\n",
    "\n",
    "result = text.isalnum()\n",
    "print(\"isalnum-\",result) \n",
    "\n",
    "result = text.isalpha()\n",
    "print(\"isalpha-\",result)  \n",
    "\n",
    "result = text.isascii()\n",
    "print(\"isascii-\",result) \n",
    "\n",
    "text1= \"12345\"\n",
    "result = text.isdecimal()\n",
    "print(\"isdecimal-\",result)  \n",
    "result = text1.isdecimal()\n",
    "print('isdecimal of \"12345\"-',result)\n",
    "\n",
    "\n",
    "result = text.isdigit()\n",
    "print(\"isdigit-\",result) \n",
    "result=text1.isdigit()\n",
    "print('isdigit of \"12345\"-',result)\n",
    "\n",
    "\n",
    "result = text.isidentifier()\n",
    "print(\"isidentifier-\",result)  \n",
    "\n",
    "result = text.islower()\n",
    "print(\"islower-\",result) \n",
    "\n",
    "result = text.isnumeric()\n",
    "print(\"isnumeric-\",result)  \n",
    "result=text1.isnumeric()\n",
    "print('isnumeric of \"12345\"-',result)  \n",
    "\n",
    "text1 = \"hello\\nworld\"\n",
    "result = text.isprintable()\n",
    "print(\"isprintable\",result)  \n",
    "result = text1.isprintable()\n",
    "print('isprintable of \"hello\\\\nworld\"-',result)  \n",
    "\n",
    "text1 = \"   \"\n",
    "result = text.isspace()\n",
    "print(\"isspace-\",result)  \n",
    "result = text1.isspace()\n",
    "print('isspace of \"   \"-',result)  \n",
    "\n",
    "text1= \"Title Case Example\"\n",
    "result = text.istitle()\n",
    "print(\"istitle-\",result) \n",
    "result = text1.istitle()\n",
    "print('istitle of \"Title Case Example\"-',result) \n",
    "\n",
    "text1 = \"HELLO\"\n",
    "result = text.isupper()\n",
    "print(\"isupper-\",result)  \n",
    "result = text1.isupper()\n",
    "print('isupper of \"HELLO\"-',result)  "
   ]
  },
  {
   "cell_type": "markdown",
   "metadata": {},
   "source": [
    "8. ***Encoding and Translation***"
   ]
  },
  {
   "cell_type": "code",
   "execution_count": null,
   "metadata": {},
   "outputs": [],
   "source": [
    "\"\"\" Encoding and Translation\n",
    "SYNTAX: str.encodoe()\n",
    "        str.maketrans()\n",
    "        str.translate() \"\"\"\n",
    "#str.encode(encoding='UTF-8', errors='strict')\n",
    "text = \"hello\"\n",
    "print(\"ORIGINAL STRING-\",text)\n",
    "encoded_text = text.encode(encoding='utf-8')\n",
    "print(\"encode-\",encoded_text)\n",
    "\n",
    "#str.maketrans(x[, y[, z]])\n",
    "\"\"\"x: If a single argument, it must be a dictionary mapping Unicode ordinals to translation strings. \n",
    "If two arguments, it must be two strings with equal length, and each character in x will be mapped to the character at the same position in y. \n",
    "If three arguments, each character in x will be mapped to the character at the same position in y and then the characters in z will be mapped to None.\n",
    "\"\"\"\n",
    "\n",
    "before = \"abc\"\n",
    "after = \"123\"\n",
    "b=\"QWE\"\n",
    "translator = str.maketrans(before, after,b) # It takes 2 or 3 arguments\n",
    "print(\"maketrans-\",translator)\n",
    "\n",
    "#str.translate(table)\n",
    "# table: A translation table created by maketrans()\n",
    "text = \"abcdefadbecf\"\n",
    "result = text.translate(translator)     #In string(text) 'a','b','c'(if any characters of before variable) will be replaced by '1','2','3'(characters of after variable continuosly) continuosly\n",
    "# a=1 , b=2 , c=3\n",
    "print(\"translate-\",result)\n"
   ]
  },
  {
   "cell_type": "code",
   "execution_count": null,
   "metadata": {},
   "outputs": [],
   "source": [
    "# USES OF ABOVE (ENCODING and TRANSLATION)\n",
    "# Creating a translation table to convert uppercase to lowercase\n",
    "normalize_table = str.maketrans(\"ABCDEFGHIJKLMNOPQRSTUVWXYZ\", \"abcdefghijklmnopqrstuvwxyz\")\n",
    "\n",
    "text = \"Hello World\"\n",
    "result = text.translate(normalize_table)\n",
    "print(result)\n",
    "\n",
    "# Creating a translation table to replace vowels with '*'\n",
    "replace_table = str.maketrans(\"aeiou\", \"*****\") \n",
    "\n",
    "text = \"hello world\"\n",
    "result = text.translate(replace_table)  # aeiou is replaced by *\n",
    "print(result)\n",
    "\n"
   ]
  },
  {
   "cell_type": "markdown",
   "metadata": {},
   "source": [
    "10. ***Joining and Splitting***"
   ]
  },
  {
   "cell_type": "code",
   "execution_count": null,
   "metadata": {},
   "outputs": [],
   "source": [
    "\"\"\"  Joining and Splitting\n",
    "SYNTAX: 'value'.join(iterable)   \n",
    "        str.partition(separator)\n",
    "        str.rpartition(separator)\n",
    "        str.split([sep[, maxsplit]])\n",
    "        str.rsplit([sep[, maxsplit]])\n",
    "        str.splitlines([keepends])\n",
    "\n",
    "\"\"\"\n",
    "words = ['Hello', 'World', '!','dfgh']\n",
    "joined_string = ' '.join(words)\n",
    "print(joined_string)\n",
    "\n",
    "text = \"hello world    gfd    \"\n",
    "result =text.partition(\" \")\n",
    "print(result)\n",
    "\n",
    "text = \"hello world    gfd   \"\n",
    "result = text.rpartition(\" \")\n",
    "print(result)\n",
    "\n",
    "text = \"hello world  fddf dfg  th ht \"\n",
    "result = text.split(\" \",4)\n",
    "print(result)\n",
    "\n",
    "text = \"hello world  fddf dfg  th ht \"\n",
    "result = text.rsplit(\" \",4)\n",
    "print(result)\n",
    "\n",
    "text = \"Hello\\nWorld dsfjs\\n uiww\"\n",
    "result = text.splitlines()\n",
    "print(result)\n",
    "\n"
   ]
  },
  {
   "cell_type": "markdown",
   "metadata": {},
   "source": [
    "11. ***Prefix and Suffix Manipulation***\n",
    "12. ***Numeric String Padding***"
   ]
  },
  {
   "cell_type": "code",
   "execution_count": null,
   "metadata": {},
   "outputs": [],
   "source": [
    "\"\"\" Prefix and Suffix Manipulation\n",
    "SYNTAX: str.removeprefix(prefix)\n",
    "        str.removesuffix(suffix)\n",
    "\n",
    "\"\"\"\n",
    "text = \"HelloHelloWorldWorld\"\n",
    "result = text.removeprefix(\"Hello\")\n",
    "print(result)\n",
    "\n",
    "result = text.removesuffix(\"World\")\n",
    "print(result)\n",
    "\n",
    "\"\"\"Numeric String Padding\n",
    "SYNTAX: str.zfill(width)\n",
    "\"\"\"\n",
    "print()\n",
    "number = \"45\"\n",
    "result = number.zfill(7)\n",
    "print(result)"
   ]
  },
  {
   "cell_type": "code",
   "execution_count": null,
   "metadata": {},
   "outputs": [],
   "source": [
    "txt = \"The best things in life are free!\"\n",
    "print(\"free\" in txt)\n",
    "\n",
    "if \"free\" in txt:\n",
    "  print(\"Yes, 'free' is present.\")\n",
    "\n",
    "print(\"expensive\" not in txt)\n",
    "if \"expensive\" not in txt:\n",
    "  print(\"Yes, 'expensive' is NOT present.\")"
   ]
  },
  {
   "cell_type": "code",
   "execution_count": null,
   "metadata": {},
   "outputs": [],
   "source": [
    "a=input()\n",
    "name = a or 'N/A' # assings  'N/A' if user click enter without typing any key(character,space bar,numbers,special character)\n",
    "print(name)"
   ]
  },
  {
   "cell_type": "code",
   "execution_count": null,
   "metadata": {},
   "outputs": [],
   "source": [
    "dir(str)"
   ]
  },
  {
   "cell_type": "code",
   "execution_count": null,
   "metadata": {},
   "outputs": [],
   "source": [
    "help(str)"
   ]
  },
  {
   "cell_type": "code",
   "execution_count": null,
   "metadata": {},
   "outputs": [],
   "source": [
    "a=\"Prajwal\"\n",
    "for i in a:\n",
    "    print(i,end=\" \")"
   ]
  },
  {
   "cell_type": "markdown",
   "metadata": {},
   "source": [
    "# List :\n",
    "    Mutable: Lists are mutable, meaning you can modify their elements (add, remove, or change) after creation.\n",
    "    Ordered: Elements in a list have a specific order, and you can access them by their index."
   ]
  },
  {
   "cell_type": "code",
   "execution_count": null,
   "metadata": {},
   "outputs": [],
   "source": [
    "dir(list)"
   ]
  },
  {
   "cell_type": "code",
   "execution_count": null,
   "metadata": {},
   "outputs": [],
   "source": [
    "a=list()\n",
    "a=[2,3]\n",
    "a.append(34)\n",
    "print(a.__getitem__(2))\n",
    "print(a[0])"
   ]
  },
  {
   "cell_type": "code",
   "execution_count": null,
   "metadata": {},
   "outputs": [],
   "source": [
    "a=[1,2,34,67]\n",
    "print(type(a))\n",
    "\n",
    "\n",
    "b=[{'a':\"tfyguhi\",'b':\"uyfgh\",'c':\"Prajwal\",'c':\"Prajwal\",'c':\"PRAJWAL\"}]   # List having dictionary\n",
    "print(b)\n",
    "print(b[0])\n",
    "for i,j in b[0].items():   # Accessing dictionary items(Key-value pair)\n",
    "    print(i,':',j)"
   ]
  },
  {
   "cell_type": "markdown",
   "metadata": {},
   "source": [
    "# Methods operated on List\n",
    "Certainly! Here is a list of commonly used methods for Python lists:\n",
    "\n",
    "1. `append(x)`\n",
    "2. `extend(iterable)`\n",
    "3. `insert(i, x)`\n",
    "4. `remove(x)`\n",
    "5. `pop([i])`\n",
    "6. `index(x, start, end)`\n",
    "7. `count(x)`\n",
    "8. `sort(key=None, reverse=False)`\n",
    "9. `reverse()`\n",
    "10. `copy()`"
   ]
  },
  {
   "cell_type": "code",
   "execution_count": null,
   "metadata": {},
   "outputs": [],
   "source": [
    "\n",
    "\"\"\" Append\n",
    "Synatx - list.append(x)  \n",
    "        Adds element x to the end of the list.\"\"\"\n",
    "\n",
    "print(\"\\nappend Method\")\n",
    "my_list = [1, 2, 3]\n",
    "print(\"Original list--\",my_list)\n",
    "my_list.append(4)\n",
    "print(\"After append -\",my_list)\n",
    "\n",
    "\"\"\" Extend\n",
    "Syntax - list.extend(iterable)\n",
    "         Appends the elements of the iterable to the end of the list.\n",
    "         Here iterable means they can iterate (eg list,tuple,dict,etc...)\"\"\"\n",
    "\n",
    "# my_list.extend(3) #DISPLAY ERROR MESSAGE\n",
    "def list_():\n",
    "    another_list=[4,5,6]\n",
    "    my_list.extend(another_list)\n",
    "    print(\"list - \",my_list)\n",
    "\n",
    "def tuple_():\n",
    "    another_tuple = (4, 5, 6)\n",
    "    my_list.extend(another_tuple)\n",
    "    print(\"Tuple - \",my_list)\n",
    "\n",
    "def dict_():\n",
    "    another_dict={'a':4,'b':5,'c':6}\n",
    "    my_list.extend(another_dict)\n",
    "    print(\"dict -\",my_list)\n",
    "print(\"\\nextend method\")\n",
    "my_list = [1, 2, 3]\n",
    "print(\"Original list--\",my_list)\n",
    "list_()\n",
    "tuple_()\n",
    "dict_()\n",
    "\n",
    "\"\"\" Insert\n",
    "Syntax - list.insert(i, x)\n",
    "          Inserts element x at the specified index i.\"\"\"\n",
    "\n",
    "print(\"\\ninsert Method\")\n",
    "my_list = [1, 2, 3]\n",
    "print(\"Original list--\",my_list)\n",
    "my_list.insert(1, 10)\n",
    "print(\"After insert at specified position - \",my_list)\n",
    "\n",
    "\"\"\" Remove\n",
    "Syntax - list.remove(x)\n",
    "          Removes the first occurrence of element x from the list.\"\"\"\n",
    "print(\"\\nremove method\")\n",
    "my_list = [1, 2, 3, 2]\n",
    "print(\"Original list--\",my_list)\n",
    "my_list.remove(2)\n",
    "print(my_list)\n",
    "\n",
    "\"\"\" Pop\n",
    "Synatx - list.pop(i)\n",
    "          Removes and returns the element at index i. If i is not specified, removes and returns the last element.\"\"\"\n",
    "\n",
    "print(\"\\npop method\")\n",
    "def pop1(index):\n",
    "    return my_list.pop(index)\n",
    "def pop2():\n",
    "    return my_list.pop()\n",
    "my_list = [1, 2, 3,4,5,6,7,8,9]\n",
    "print(\"Original list--\",my_list)\n",
    "a=pop1(5)\n",
    "b=pop2()\n",
    "print(\"Popped element at given index - \",a)\n",
    "print(\"Popped element without giving index - \",b)\n",
    "print(\"After pop - \",my_list)\n",
    "\n",
    "\"\"\" Index\n",
    "Syntax - list.index(x, start, end)\n",
    "          Returns the index of the first occurrence of element x. If not found, raises a ValueError.\n",
    "\n",
    "          Parameters:\n",
    "            x :    The element to search for in the list.\n",
    "            start (optional) : The index from which the search begins. If not specified, the search starts from the beginning of the list.\n",
    "            end (optional) :   The index at which the search stops. If not specified, the search goes until the end of the list.\"\"\"\n",
    "\n",
    "print(\"\\nindex method\")\n",
    "my_list = [10, 20, 30, 20, 40, 50]\n",
    "print(\"Original list--\",my_list)\n",
    "# Find the index of the first occurrence of 20\n",
    "index = my_list.index(20)\n",
    "print(\"Index of 20 - \",index) \n",
    "\n",
    "# Find the index of the first occurrence of 20 starting from index 2\n",
    "index = my_list.index(20, 2)\n",
    "print(\"Index of 20 from index 2 - \",index)  \n",
    "\n",
    "# Find the index of the first occurrence of 40 within the range [2, 5)\n",
    "index = my_list.index(40, 2, 5)\n",
    "print(\"Index of 40 between index 2 and 5 - \",index)  \n",
    "\n",
    "# Attempt to find the index of 60 (not present in the list)\n",
    "\"\"\" index = my_list.index(60)\"\"\" # This will raise a ValueError\n",
    "\n",
    "\"\"\" Count\n",
    "Synatx - list.count(x)\n",
    "          Returns the number of occurrences of element x in the list.\"\"\"\n",
    "print(\"\\ncount method\")\n",
    "my_list = [1, 2, 2, 3, 2, 4]\n",
    "print(\"Original list--\",my_list)\n",
    "count = my_list.count(2)\n",
    "print(\"Count of 2 - \",count)\n",
    "\n",
    "\"\"\" Sort\n",
    "Syntax - list.sort(key=None, reverse=False)\n",
    "          Sorts the elements of the list in ascending order. You can provide a custom sorting key and specify whether to sort in reverse.\n",
    "          In place of None we can give function\n",
    "          eg list.sort(key=lambda x: x[1]) --key parameter is set to a lambda function \"\"\"\n",
    "\n",
    "print(\"\\nsort method\")\n",
    "my_list = [3, 1, 4, 1, 5, 9, 2]\n",
    "print(\"Original list--\",my_list)\n",
    "\n",
    "# Sort the list in ascending order (default behavior)\n",
    "my_list.sort()\n",
    "print(\"Ascending order - \",my_list)  \n",
    "\n",
    "# Sort the list in descending order\n",
    "my_list.sort(reverse=True)\n",
    "print(\"decending order - \",my_list)  \n",
    "\n",
    "# Sort a list of tuples based on the second element of each tuple\n",
    "tuple_list = [(1, 2), (3, 1), (5, 0)]\n",
    "print(\"Original tuple list--\",tuple_list)\n",
    "tuple_list.sort(key=lambda x: x[1])\n",
    "print(\"Based on second element sorted in ascending order - \",tuple_list)  \n",
    "\n",
    "\"\"\" Copy\n",
    "Syntax - list.copy()\n",
    "          Returns a shallow copy of the list.\n",
    "          \n",
    "          A shallow copy is a duplicate or a copy of an object that contains references to the same elements as the original object. \n",
    "          In other words, it creates a new object, but the elements inside the new object still reference the same objects as the elements in the original object\n",
    "          eg - You can take nested list for Shallow copy-- i.e Any changes in nested list makes difference in another list\"\"\"\n",
    "import copy\n",
    "print(\"\\ncopy method\")\n",
    "original_list = [1, 2, 3]\n",
    "print(\"Original list--\",original_list)\n",
    "copied_list = original_list.copy()\n",
    "print(\"Copied list - \",copied_list)\n",
    "\n",
    "\"\"\" clear\n",
    "Syntax - list.clear()\n",
    "         It is a built-in method for lists that removes all the elements from the list. \n",
    "         After applying clear(), the list becomes empty. \n",
    "         The method doesn't return a new list; it modifies the original list in-place.\"\"\"\n",
    "\n",
    "print(\"\\nclear method\")\n",
    "my_list = [1, 2, 3, 4, 5]\n",
    "print(\"Original list--\",my_list)\n",
    "# Using clear() to remove all elements from the list\n",
    "my_list.clear()\n",
    "print(\"After clear - \",my_list)\n"
   ]
  },
  {
   "cell_type": "markdown",
   "metadata": {},
   "source": [
    "NESTED LIST"
   ]
  },
  {
   "cell_type": "code",
   "execution_count": null,
   "metadata": {},
   "outputs": [],
   "source": [
    "# List having another list\n",
    "a=[1,2,[3,4,5,6],7,8]\n",
    "\n",
    "def method0():\n",
    "    print(\"METHOD 0\")\n",
    "    [print(i) for i in a]\n",
    "\n",
    "# printing all elements line by line\n",
    "def method1():\n",
    "    print(\"METHOD 1\")\n",
    "    for i in a:\n",
    "        if(type(i)==list):\n",
    "            for j in i:\n",
    "                print(j)\n",
    "        else:print(i)\n",
    "        \n",
    "\n",
    "def method2():\n",
    "    print(\"METHOD 2\")\n",
    "    for i in range(len(a)):\n",
    "        if(type(a[i])==list):\n",
    "            for j in range(len(a[i])):\n",
    "                print(a[i][j])\n",
    "        else:print(a[i])\n",
    "# Printing only nested elements  \n",
    "def method3():\n",
    "    print(\"METHOD 3\")\n",
    "    for i in a:\n",
    "        if(type(i)==list):\n",
    "            for j in i:\n",
    "                print(j) \n",
    "\n",
    "def method4():\n",
    "    print(\"METHOD 4\")\n",
    "    [print(j) for i in a if type(i)==list for j in i]\n",
    "\n",
    "# Using end() operator in print()\n",
    "def method5():\n",
    "    print(\"METHOD 5-Using end()\")\n",
    "    [print(j,end=(\" \")) for i in a if type(i)==list for j in i]\n",
    "\n",
    "def method6():\n",
    "    print(\"METHOD 6-Using end()\")\n",
    "    for i in a:\n",
    "        if(type(i)==list):\n",
    "            for j in i:\n",
    "                print(j,end=(\" \"))\n",
    "        else:print(i,end=(\" \"))\n",
    "\n",
    "method0() \n",
    "method1()\n",
    "method2()\n",
    "method3()\n",
    "method4()\n",
    "method5()\n",
    "method6()"
   ]
  },
  {
   "cell_type": "markdown",
   "metadata": {},
   "source": [
    "# deep copy"
   ]
  },
  {
   "cell_type": "code",
   "execution_count": null,
   "metadata": {},
   "outputs": [],
   "source": [
    "import copy\n",
    "def shallow():\n",
    "            a=[[1,2],[3,4],[5,6],[7,8],34]\n",
    "            print(\"ORIGINAL LIST - \",a)\n",
    "            b=a.copy()\n",
    "            print(\"AFTER SHALLOW COPY\")\n",
    "            a[0][0]=100\n",
    "            b[1][0]=100\n",
    "            print(a)\n",
    "            print(b)\n",
    "def deep():\n",
    "    a=[[1,2],[3,4],[5,6],[7,8],34]\n",
    "    print(\"ORIGINAL LIST - \",a)\n",
    "    b=copy.deepcopy(a)\n",
    "    print(\"AFTER DEEP COPY\")\n",
    "    a[0][0]=100\n",
    "    b[1][0]=100\n",
    "    print(a)\n",
    "    print(b)\n",
    "shallow()\n",
    "print()\n",
    "deep()\n"
   ]
  },
  {
   "cell_type": "markdown",
   "metadata": {},
   "source": [
    "# __len__ method\n",
    "    a.__len__() calls the __len__ method of the list class, which returns the length of the list."
   ]
  },
  {
   "cell_type": "code",
   "execution_count": null,
   "metadata": {},
   "outputs": [],
   "source": [
    "a=[1,2,3,4,5,6]\n",
    "c=a.__len__()  # a is an object of class List and  here we are calling len method of this class\n",
    "print(c)\n",
    "\n",
    "# We can also use len() method to find lenth\n",
    "print(len(a))"
   ]
  },
  {
   "cell_type": "markdown",
   "metadata": {},
   "source": [
    "# Tuple (tuple):\n",
    "    Immutable: Tuples are immutable, meaning you cannot modify their elements after creation.\n",
    "    Ordered: Similar to lists, tuples maintain the order of elements."
   ]
  },
  {
   "cell_type": "code",
   "execution_count": null,
   "metadata": {},
   "outputs": [],
   "source": [
    "a=(1,2,4,5,76)\n",
    "b=1,2,3,4,5\n",
    "c=\"abc\",\"bcd\",b\n",
    "print(type(a))\n",
    "print(type(b))\n",
    "print(type(c))\n",
    "print(a)\n",
    "print(b)\n",
    "print((c))"
   ]
  },
  {
   "cell_type": "markdown",
   "metadata": {},
   "source": [
    "# Dictionary (dict):\n",
    "    Mutable: Dictionaries are mutable and allow you to modify their key-value pairs after creation.\n",
    "    Unordered: The order of elements in a dictionary is not guaranteed.\n",
    "It does not allows duplicate items\n",
    "If we make the duplicate items it will store the latest data Or Key Value pair\n"
   ]
  },
  {
   "cell_type": "code",
   "execution_count": 1,
   "metadata": {},
   "outputs": [
    {
     "name": "stdout",
     "output_type": "stream",
     "text": [
      "<class 'dict'>\n",
      "PRAJWAL\n",
      "{'a': 'tfyguhi', 'b': 'uyfgh', 'c': 'PRAJWAL'}\n"
     ]
    }
   ],
   "source": [
    "a={'a':\"tfyguhi\",'b':\"uyfgh\",'c':\"Prajwal\",'c':\"Prajwal\",'c':\"PRAJWAL\"}\n",
    "print(type(a))\n",
    "print(a['c']) \n",
    "print(a)  # Checking \n"
   ]
  },
  {
   "cell_type": "code",
   "execution_count": null,
   "metadata": {},
   "outputs": [],
   "source": [
    "help(dict)"
   ]
  },
  {
   "cell_type": "code",
   "execution_count": null,
   "metadata": {},
   "outputs": [],
   "source": [
    "dir(dict)"
   ]
  },
  {
   "cell_type": "markdown",
   "metadata": {},
   "source": [
    "# Methods operated on dictionary"
   ]
  },
  {
   "cell_type": "markdown",
   "metadata": {},
   "source": [
    "# Set (set):\n",
    "    Mutable: Sets are mutable and allow you to add or remove elements after creation.\n",
    "    Unordered: The order of elements in a set is not guaranteed.\n",
    "    No Duplicates: Sets do not allow duplicate elements."
   ]
  },
  {
   "cell_type": "code",
   "execution_count": null,
   "metadata": {},
   "outputs": [],
   "source": [
    "a={1,32,6,32}#set\n",
    "print(type(a))\n",
    "b=set() # Creating an Empty Set #we cant create like - b={}\n",
    "print(type(b))\n",
    "c={}    # Creating Empty Dictionary\n",
    "print(type(c))"
   ]
  },
  {
   "cell_type": "markdown",
   "metadata": {},
   "source": [
    "FrozenSet (frozenset):\n",
    "    Immutable: Frozensets are immutable, like sets.\n",
    "    Unordered: Similar to sets, the order of elements in a frozenset is not guaranteed.\n",
    "    No Duplicates: Frozensets do not allow duplicate elements."
   ]
  },
  {
   "cell_type": "code",
   "execution_count": null,
   "metadata": {},
   "outputs": [],
   "source": [
    "a= frozenset([1, 2, 3, 4])\n",
    "print(type(a))"
   ]
  },
  {
   "cell_type": "markdown",
   "metadata": {},
   "source": [
    "# Using semicolon and backslash ( ;\\ ) for end the line\n",
    "# The use of ; and \\ in your example is not a common or recommended practice in Python.\n",
    " In Python, the backslash (\\ ) is used for line continuation, allowing you to split a statement across multiple lines. The semicolon (;) is used to separate multiple statements on a single line."
   ]
  },
  {
   "cell_type": "code",
   "execution_count": null,
   "metadata": {},
   "outputs": [],
   "source": [
    "first_number = int(input('Type the first number: ')) ;\\\n",
    " second_number = int(input('Type the second number: ')) ;\\\n",
    " print(\"The sum is: \", first_number + second_number)"
   ]
  },
  {
   "cell_type": "code",
   "execution_count": null,
   "metadata": {},
   "outputs": [],
   "source": [
    "a=1 ;\\\n",
    "   b=2 ;\\\n",
    "   print(a+b);\\\n",
    "   "
   ]
  },
  {
   "cell_type": "code",
   "execution_count": null,
   "metadata": {},
   "outputs": [],
   "source": [
    "first_number = int(input('Type the first number: ')) ;\\\n",
    "        second_number = int(input('Type the second number: ')) ;\\\n",
    "   print(\"The sum is: \", first_number + second_number)"
   ]
  },
  {
   "cell_type": "markdown",
   "metadata": {},
   "source": [
    "# In Python, the semicolon (;) is used as a statement separator. \n",
    "It allows you to write multiple statements on a single line. However, using semicolons in this way is generally discouraged in Python style conventions and is not considered idiomatic Python."
   ]
  },
  {
   "cell_type": "code",
   "execution_count": null,
   "metadata": {},
   "outputs": [],
   "source": [
    "first_number = int(input('Type the first number: ')) ;      second_number = int(input('Type the second number: ')) ;  print(\"The sum is: \", first_number + second_number)"
   ]
  },
  {
   "cell_type": "code",
   "execution_count": null,
   "metadata": {},
   "outputs": [],
   "source": [
    "a=10;b=26;print(a+b)"
   ]
  },
  {
   "cell_type": "markdown",
   "metadata": {},
   "source": [
    "# datetime module"
   ]
  },
  {
   "cell_type": "code",
   "execution_count": null,
   "metadata": {},
   "outputs": [],
   "source": [
    "from datetime import date\n",
    "a=date.today()\n",
    "print(a)\n",
    "print(type(a))\n",
    "date.today()\n",
    "import sys\n",
    "\n",
    "print(sys.argv)\n",
    "print(sys.argv[0]) # program name\n",
    "print(sys.argv[1]) # first arg"
   ]
  }
 ],
 "metadata": {
  "kernelspec": {
   "display_name": "Python 3",
   "language": "python",
   "name": "python3"
  },
  "language_info": {
   "codemirror_mode": {
    "name": "ipython",
    "version": 3
   },
   "file_extension": ".py",
   "mimetype": "text/x-python",
   "name": "python",
   "nbconvert_exporter": "python",
   "pygments_lexer": "ipython3",
   "version": "3.11.7"
  }
 },
 "nbformat": 4,
 "nbformat_minor": 2
}
