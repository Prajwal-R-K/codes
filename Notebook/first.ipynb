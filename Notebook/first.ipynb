{
 "cells": [
  {
   "cell_type": "code",
   "execution_count": null,
   "metadata": {},
   "outputs": [],
   "source": [
    "print(\"Hello\")"
   ]
  },
  {
   "cell_type": "markdown",
   "metadata": {},
   "source": [
    "Using Constructor to create the list .....\n"
   ]
  },
  {
   "cell_type": "code",
   "execution_count": null,
   "metadata": {},
   "outputs": [],
   "source": [
    "l=list((10,20,30))\n",
    "print(l)\n",
    "t=tuple((10,20,30))\n",
    "print(t)\n",
    "d=dict(name=\"jfdf\",age=\"nfej\")\n",
    "print(d)\n",
    "s=set((\"kureh\",\"seuhu\",1,2,))\n",
    "print(s)\n",
    "s.add(False)\n",
    "print(s)\n",
    "s.add(3842)\n",
    "print(s)\n"
   ]
  },
  {
   "cell_type": "markdown",
   "metadata": {},
   "source": [
    "Set"
   ]
  },
  {
   "cell_type": "code",
   "execution_count": null,
   "metadata": {},
   "outputs": [],
   "source": [
    "x={\"age\",12,67,\"num\",\"hi\"}\n",
    "y={\"hfds\",67,213,\"age\",98}\n",
    "z=x.difference(y)\n",
    "print(z)\n",
    "z=y.difference(x)\n",
    "print(z)\n",
    "print(x)\n",
    "print(y)\n",
    "#x.difference_update(y)\n",
    "#print(x)\n",
    "#y.difference_update(x)\n",
    "#print(x)\n",
    "z=x.intersection(y)\n",
    "print(z)"
   ]
  },
  {
   "cell_type": "markdown",
   "metadata": {},
   "source": [
    "pop"
   ]
  },
  {
   "cell_type": "code",
   "execution_count": null,
   "metadata": {},
   "outputs": [],
   "source": [
    "x={1,2,3,4,5}\n",
    "y={1,3,2,0,4,7}\n",
    "Z={8,7,6,0}\n",
    "x.pop()\n",
    "print(x)\n",
    "x.discard(3)\n",
    "print(x)\n",
    "#x.clear()\n",
    "#x\n",
    "x.isdisjoint(y)\n",
    "#x.isdisjoint(Z)\n",
    "z=x.union(y)\n",
    "print(z)\n",
    "x.isdisjoint(y)\n"
   ]
  },
  {
   "cell_type": "code",
   "execution_count": null,
   "metadata": {},
   "outputs": [],
   "source": [
    "a=3\n",
    "b=7\n",
    "print(\"a is greater\") if a>b else print(\"b is greater\")"
   ]
  },
  {
   "cell_type": "code",
   "execution_count": null,
   "metadata": {},
   "outputs": [],
   "source": [
    "print(\"h\")"
   ]
  },
  {
   "cell_type": "code",
   "execution_count": null,
   "metadata": {},
   "outputs": [],
   "source": [
    "a=int(input(\"enter a\"))\n",
    "b=int(input(\"enter b\"))\n",
    "if(a>b):\n",
    "    print(\"a is greater\")\n",
    "else:\n",
    "    print(\"b is greater\")"
   ]
  },
  {
   "cell_type": "markdown",
   "metadata": {},
   "source": [
    "Practice\n",
    "Underscore"
   ]
  },
  {
   "cell_type": "code",
   "execution_count": null,
   "metadata": {},
   "outputs": [],
   "source": [
    "a=2\n",
    "b=4\n",
    "X=a+b\n",
    "result=_\n",
    "print(result)\n",
    "# Ignore the first and third elements in unpacking\n",
    "_, y, _ = (1, 2, 3)\n",
    "print(y)\n",
    "print(_)\n",
    "\n"
   ]
  },
  {
   "cell_type": "code",
   "execution_count": null,
   "metadata": {},
   "outputs": [],
   "source": [
    "a = 2\n",
    "b = 4\n",
    "X = a + b\n",
    "_ = 87777\n",
    "result = _\n",
    "print(result)\n"
   ]
  },
  {
   "cell_type": "code",
   "execution_count": null,
   "metadata": {},
   "outputs": [],
   "source": [
    "a=\"jksefhh hsdfhuser\"\n",
    "for _ in range(len(a)):\n",
    "    print(a[_])"
   ]
  },
  {
   "cell_type": "code",
   "execution_count": null,
   "metadata": {},
   "outputs": [],
   "source": [
    "print(\"\"\"jiti\n",
    "      dgkj\n",
    "      drglkp\"\"\")"
   ]
  },
  {
   "cell_type": "code",
   "execution_count": null,
   "metadata": {},
   "outputs": [],
   "source": [
    "a=\"iryriuj\"\n",
    "print(a[::4])"
   ]
  },
  {
   "cell_type": "code",
   "execution_count": null,
   "metadata": {},
   "outputs": [],
   "source": [
    "b=[\"234\",\"24\",\"764\"]\n",
    "a=[int(i) for i in b]\n",
    "print(a)\n",
    "a=[i for i in range(10)]\n",
    "print(a)\n",
    "c=[]\n",
    "n=int(input(\"Enter n:\"))\n",
    "for i in range(n):\n",
    "    c=c+[int(input(\"Ente the ele  \"+str(i)+\":\"))]\n",
    "print(c)"
   ]
  },
  {
   "cell_type": "code",
   "execution_count": null,
   "metadata": {},
   "outputs": [],
   "source": [
    "a=[1,2,4,5,6]\n",
    "print(a[-1])\n",
    "b,c=1,3\n",
    "print(b)\n",
    "print(c)"
   ]
  },
  {
   "cell_type": "code",
   "execution_count": null,
   "metadata": {},
   "outputs": [],
   "source": [
    "a='hefuy'\n",
    "print(a[-1])\n",
    "#a[4]=g\n",
    "b=a.replace(a[2],\"r\")\n",
    "print(b)"
   ]
  },
  {
   "cell_type": "code",
   "execution_count": null,
   "metadata": {},
   "outputs": [],
   "source": [
    "a=[1,2,[12,13,14],3,4,5]\n",
    "b=a[:]\n",
    "print(b)\n",
    "a[2][1]=78\n",
    "print(b)\n",
    "print(a)"
   ]
  },
  {
   "cell_type": "code",
   "execution_count": null,
   "metadata": {},
   "outputs": [],
   "source": [
    "a,b,c=[1,2,[1,2,3]]\n",
    "print(a,end=\"     \")\n",
    "print(c,end=\"    m \")\n",
    "g=input(\"jiuj\")\n",
    "print(\"rthj\")"
   ]
  },
  {
   "cell_type": "code",
   "execution_count": null,
   "metadata": {},
   "outputs": [],
   "source": [
    "a=\"uhyef\"\n",
    "b=333\n",
    "print(a,end=\",\")\n",
    "c=input(\"enter\")\n",
    "print(b)\n",
    "print(c)"
   ]
  },
  {
   "cell_type": "code",
   "execution_count": null,
   "metadata": {},
   "outputs": [],
   "source": [
    "print(\"Hello\", end=' wwdd ')\n",
    "print(\"World\")  # Output: Hello World\n",
    "print(range(10))\n",
    "print(list(range(10)))\n",
    "\n"
   ]
  },
  {
   "cell_type": "code",
   "execution_count": null,
   "metadata": {},
   "outputs": [],
   "source": [
    "for n in range(2, 10):\n",
    "    for x in range(2, n):\n",
    "        if n % x == 0:\n",
    "            print(n, 'equals', x, '*', n//x)\n",
    "            break\n",
    "    else:\n",
    "        # loop fell through without finding a factor\n",
    "        print(n, 'is a prime number')\n"
   ]
  },
  {
   "cell_type": "code",
   "execution_count": null,
   "metadata": {},
   "outputs": [],
   "source": [
    "a=\"ABCDEF\"\n",
    "for i in range(len(a)):\n",
    "    print(a[i],end=\" \")"
   ]
  },
  {
   "cell_type": "code",
   "execution_count": null,
   "metadata": {},
   "outputs": [],
   "source": [
    "a=[1,2,4,5,6,]\n",
    "b=a\n",
    "print(b)\n",
    "for i in a:\n",
    "    print(i,end=' ')\n",
    "b=[1,2,3,[1,2,3,],1,2,3,4]\n",
    "print()\n",
    "print(len(b))\n",
    "for ele in b:\n",
    "    if isinstance(ele,list):\n",
    "        for i in ele:\n",
    "            print(i)\n",
    "    else:\n",
    "        print(ele)"
   ]
  },
  {
   "cell_type": "code",
   "execution_count": null,
   "metadata": {},
   "outputs": [],
   "source": [
    "a=[1,3,4,5]\n",
    "b=a.append(89)\n",
    "print(a)\n",
    "print(b)\n",
    "c=a+[89]\n",
    "print(c)\n",
    "print(b is c)\n",
    "d=[1,2,3,4]\n",
    "#a.append([[d]])\n",
    "#a.append([[1,2,3]])\n",
    "a.append([d])\n",
    "print(a)"
   ]
  },
  {
   "cell_type": "code",
   "execution_count": null,
   "metadata": {},
   "outputs": [],
   "source": [
    "MY_COST=2\n",
    "print(MY_COST)\n",
    "MY_COST=3\n",
    "print(MY_COST)"
   ]
  },
  {
   "cell_type": "markdown",
   "metadata": {},
   "source": [
    "1st CLASS"
   ]
  },
  {
   "cell_type": "code",
   "execution_count": null,
   "metadata": {},
   "outputs": [],
   "source": [
    "import sys\n",
    "def size(amaz_sec,amaz_min,amaz_hr,amaz_day,amaz_yr):\n",
    "    \"\"\"print(sys.getsizeof(amaz_sec))\n",
    "    print(sys.getsizeof(amaz_min))\n",
    "    print(sys.getsizeof(amaz_hr))\n",
    "    print(sys.getsizeof(amaz_day))\n",
    "    print(sys.getsizeof(amaz_yr))\"\"\"\n",
    "    a=sys.getsizeof(amaz_sec)\n",
    "    b1=sys.getsizeof(amaz_min)\n",
    "    c=sys.getsizeof(amaz_hr)\n",
    "    d=sys.getsizeof(amaz_day)\n",
    "    e=sys.getsizeof(amaz_yr)\n",
    "    return(a,b1,c,d,e)\n",
    "def amaz(trans):\n",
    "    global b\n",
    "    amaz_sec=trans*60\n",
    "    amaz_min=amaz_sec*60\n",
    "    amaz_hr=amaz_min*60\n",
    "    amaz_day=amaz_hr*24\n",
    "    amaz_yr=amaz_day*365\n",
    "    b=size(amaz_sec,amaz_min,amaz_hr,amaz_day,amaz_yr)\n",
    "    #print(b)\n",
    "    return amaz_sec,amaz_min,amaz_hr,amaz_day,amaz_yr  #  return [amaz_sec,amaz_min,amaz_hr,amaz_day,amaz_yr]   # --To return the list instead of tuple\n",
    "time=amaz(350)\n",
    "print(time)\n",
    "#time[1]=2374 # ERROR\n",
    "lst=list(time)# Converting into List\n",
    "print(lst)\n",
    "print(time[1])\n",
    "print(b)\n",
    "print(sys.getsizeof(time))"
   ]
  },
  {
   "cell_type": "code",
   "execution_count": null,
   "metadata": {},
   "outputs": [],
   "source": [
    "amaz.__class__"
   ]
  },
  {
   "cell_type": "markdown",
   "metadata": {},
   "source": [
    "Full Stack - A full-stack developer is capable of working on both the client-side (front-end) and server-side (back-end) of an application.\n",
    "Front-end(client side) and Back-end(server side)\n",
    "STACK-Keeping something one above the another(LIFO)\n",
    "      it has deadend (There is only one end)\n",
    "        eg: NetBrowser-ie When we search anything it stored in form of stack  and retrived back when we come back and back\n",
    "            Web Browsing \n",
    "            Keeping a books (one other the other) in BOX(rectangle BOX)--We should first remove Above book(Last book that kept on the another book )"
   ]
  },
  {
   "cell_type": "markdown",
   "metadata": {},
   "source": [
    "Queue-(FIFO)\n",
    "      It doesn't have dead end(There are TWO ends)\n",
    "DEQUE-We can remove data from both the ends\n",
    "      we can insert from the both the ends\n"
   ]
  },
  {
   "cell_type": "code",
   "execution_count": null,
   "metadata": {},
   "outputs": [],
   "source": [
    "dir(dict)"
   ]
  },
  {
   "cell_type": "code",
   "execution_count": null,
   "metadata": {},
   "outputs": [],
   "source": [
    "help(dir)"
   ]
  },
  {
   "cell_type": "code",
   "execution_count": null,
   "metadata": {},
   "outputs": [],
   "source": [
    "dir(list)"
   ]
  },
  {
   "cell_type": "code",
   "execution_count": null,
   "metadata": {},
   "outputs": [],
   "source": [
    "help(list)"
   ]
  },
  {
   "cell_type": "code",
   "execution_count": null,
   "metadata": {},
   "outputs": [],
   "source": [
    "dir(tuple)"
   ]
  },
  {
   "cell_type": "code",
   "execution_count": null,
   "metadata": {},
   "outputs": [],
   "source": [
    "help(tuple)"
   ]
  },
  {
   "cell_type": "code",
   "execution_count": null,
   "metadata": {},
   "outputs": [],
   "source": [
    "dir(int)"
   ]
  },
  {
   "cell_type": "code",
   "execution_count": null,
   "metadata": {},
   "outputs": [],
   "source": [
    "help(int)"
   ]
  },
  {
   "cell_type": "markdown",
   "metadata": {},
   "source": [
    "Atomic Structures-int,float,char,bool\n",
    "ADT-Linear and NonLiear\n",
    "    Linear- Array,Stack,Queue,LinkedList,Hashmap\n",
    "    NonLinear- Tree,Graph"
   ]
  },
  {
   "cell_type": "markdown",
   "metadata": {},
   "source": [
    "2nd CLASS"
   ]
  },
  {
   "cell_type": "markdown",
   "metadata": {},
   "source": [
    "class\n",
    "The class name should start with UpperCase\n",
    "When we create a class automatically the constructer is created"
   ]
  },
  {
   "cell_type": "code",
   "execution_count": null,
   "metadata": {},
   "outputs": [],
   "source": [
    "class Stack:\n",
    "    def __init__(self):#Constructor method\n",
    "        self.stack=[]\n",
    "    #def push(self):  \n",
    "    def push(self,ele):self.stack.append(ele)\n",
    "        #ele=input(\"Enter the element:\")\n",
    "       # self.stack.append(ele)\n",
    "    def is_empty(self):\n",
    "        return True if len(self.stack)==0 else False\n",
    "    def pop(self):\n",
    "        return None if self.is_empty() else self.stack.pop()\n",
    "    def peek(self):\n",
    "        return None if self.is_empty() else self.stack[-1]\n",
    "#building=Stack()\n",
    "#building.push() #building.push(\"ifud\")\n",
    "\n"
   ]
  },
  {
   "cell_type": "code",
   "execution_count": null,
   "metadata": {},
   "outputs": [],
   "source": [
    "building=Stack() #Creating an object -- Here building is an object\n",
    "#building.push() #building.push(\"ifud\")\n",
    "#print(building)\n",
    "#print(building.push)\n",
    "building.push(\"ifud\")\n",
    "building.push(\"qwert\")\n",
    "building.push(\"tfghd\")\n",
    "building.push(\"utyi\")\n",
    "print(building.is_empty())\n",
    "print(building.peek())\n",
    "print(building.pop())\n",
    "print(building.peek())\n",
    "print(building.pop())\n",
    "print(building.peek())\n",
    "print(building.pop())\n",
    "print(building.peek())\n",
    "print(building.pop())\n",
    "print(building.peek())\n",
    "print(building.pop())"
   ]
  },
  {
   "cell_type": "code",
   "execution_count": null,
   "metadata": {},
   "outputs": [],
   "source": [
    "building.push(\"qwert\")"
   ]
  },
  {
   "cell_type": "code",
   "execution_count": null,
   "metadata": {},
   "outputs": [],
   "source": [
    "building.peek()\n"
   ]
  },
  {
   "cell_type": "code",
   "execution_count": null,
   "metadata": {},
   "outputs": [],
   "source": [
    "building.pop()"
   ]
  },
  {
   "cell_type": "code",
   "execution_count": null,
   "metadata": {},
   "outputs": [],
   "source": [
    "class Stack2:\n",
    "    def __init__(self):\n",
    "        self.stack=[]\n",
    "    def empty(self):\n",
    "        if(len(self.stack)==0):\n",
    "            return 1\n",
    "        else:\n",
    "            return 0\n",
    "    def push(self):\n",
    "        item=input(\"Enter the value:\")\n",
    "        self.stack.append(item)\n",
    "    def push(self,item):\n",
    "        self.stack.append(item)\n",
    "\n",
    "    \"\"\"def pop(self):\n",
    "        if self.empty():\n",
    "            print(\"EMPTY\")\n",
    "        else:\n",
    "            print(self.stack.pop())\"\"\"\n",
    "    \n",
    "    def pop(self):\n",
    "        if self.empty():\n",
    "            return 0\n",
    "        else:\n",
    "           return self.stack.pop()\n",
    "    def display(self):\n",
    "        a=len(self.stack)\n",
    "        s=0\n",
    "        i=-1\n",
    "        if(a==0):\n",
    "            print(\"NO ITEM TO DISPLAY\")\n",
    "        else:\n",
    "            while(s<a):\n",
    "                print(self.stack[i],end=\" \")\n",
    "                i=i-1\n",
    "                s+=1\n",
    "\n",
    "building=Stack2()\n",
    "while(True):\n",
    "    n=int(input(\"1=push  2=pop  3=display\"))\n",
    "    if(n==1):\n",
    "        building.push()\n",
    "\n",
    "    elif(n==2):\n",
    "        building.pop()\n",
    "    elif(n==3):\n",
    "        building.display()\n",
    "    else:\n",
    "        break\n",
    "        "
   ]
  },
  {
   "cell_type": "code",
   "execution_count": null,
   "metadata": {},
   "outputs": [],
   "source": [
    "def check_parenthisis(data):\n",
    "    opening_string=\"[{(\"\n",
    "    closing_string=\"]})\"\n",
    "    stack=Stack2()\n",
    "    for element in data:\n",
    "        if element in  opening_string:\n",
    "            stack.push(element)\n",
    "        elif element in closing_string:\n",
    "            if stack.empty():\n",
    "                return 0\n",
    "            if(opening_string.index(stack.pop())!=closing_string.index(element)):\n",
    "                return 0\n",
    "    return stack.empty()\n",
    "game=input(\"Enter \")\n",
    "b=check_parenthisis(game)\n",
    "print(\"Valid\" if b else \"Invalid\")"
   ]
  },
  {
   "cell_type": "markdown",
   "metadata": {},
   "source": [
    "3rd CLASS"
   ]
  },
  {
   "cell_type": "markdown",
   "metadata": {},
   "source": [
    "Queue"
   ]
  },
  {
   "cell_type": "code",
   "execution_count": null,
   "metadata": {},
   "outputs": [],
   "source": [
    "i=0\n",
    "class Queue:\n",
    "    def __init__(self):\n",
    "        self.queue=[]\n",
    "    def enque(self):\n",
    "        a=input(\"Enter the item\")\n",
    "        if a not in self.queue:\n",
    "            #self.queue.insert(i,a)\n",
    "            # i+=1\n",
    "            #or\n",
    "            #self.queue.append(a)\n",
    "\n",
    "            # or\n",
    "            self.queue.insert(0,a)\n",
    "           \n",
    "        else:\n",
    "            print(\"The item is already present\")\n",
    "    def deque(self):\n",
    "        if(len(self.queue)==0):\n",
    "            print(\"Empty\")\n",
    "        else:\n",
    "            #print(\"The item deleted is :\",self.queue.pop(0))\n",
    "            # or\n",
    "            print(\"The item deleted is :\",self.queue.pop())\n",
    "lab=Queue()\n",
    "while(1):\n",
    "    print(lab.queue)\n",
    "    print(\"ENTER\")\n",
    "    b=int(input(\"1-Enque 2-Deque\"))\n",
    "    if(b==1):\n",
    "        lab.enque()\n",
    "    elif(b==2):\n",
    "        lab.deque()\n",
    "    else:\n",
    "        break\n",
    "    \n",
    "        "
   ]
  },
  {
   "cell_type": "markdown",
   "metadata": {},
   "source": [
    "deque\n",
    "Built-in"
   ]
  },
  {
   "cell_type": "code",
   "execution_count": null,
   "metadata": {},
   "outputs": [],
   "source": [
    "import collections\n",
    "dir(collections)"
   ]
  },
  {
   "cell_type": "code",
   "execution_count": null,
   "metadata": {},
   "outputs": [],
   "source": [
    "from collections import deque\n",
    "dir(deque)\n"
   ]
  },
  {
   "cell_type": "code",
   "execution_count": null,
   "metadata": {},
   "outputs": [],
   "source": [
    "from collections import deque\n",
    "help(deque)"
   ]
  },
  {
   "cell_type": "code",
   "execution_count": null,
   "metadata": {},
   "outputs": [],
   "source": [
    "from collections import deque\n",
    "lab=deque()\n",
    "def append():\n",
    "    a=input(\"Enter Item\")\n",
    "    lab.append(a)\n",
    "def appendleft():\n",
    "    a=input(\"Enter Item\")\n",
    "    lab.appendleft(a)\n",
    "def  pop():\n",
    "    if(len(lab)==0):print(\"EMPTY\")\n",
    "    else:print(\"Deleted - \",lab.pop())\n",
    "def popleft():\n",
    "    if(len(lab)==0):print(\"EMPTY\")\n",
    "    else:print(\"Deleted - \",lab.popleft())\n",
    "while(1):\n",
    "    print(lab)\n",
    "    print('1-append 2-appendleft 3-pop  4-popleft')\n",
    "    c=int(input())\n",
    "    if(c==1):append()\n",
    "    elif(c==2):appendleft()\n",
    "    elif(c==3):pop()\n",
    "    elif(c==4):popleft()\n",
    "    else:break\n"
   ]
  },
  {
   "cell_type": "markdown",
   "metadata": {},
   "source": [
    "HASH FUNCTION"
   ]
  },
  {
   "cell_type": "code",
   "execution_count": null,
   "metadata": {},
   "outputs": [],
   "source": [
    "%%time\n",
    "\n",
    "sec=350\n",
    "minute=sec*60\n",
    "hr=minute*60\n",
    "day=hr*24\n",
    "year=365*day\n",
    "l_amzn=[sec,minute,hr,day,year]\n",
    "print(l_amzn)\n",
    "for i in l_amzn:\n",
    "    print(i,end=\" \")\n",
    "print()"
   ]
  },
  {
   "cell_type": "code",
   "execution_count": null,
   "metadata": {},
   "outputs": [],
   "source": [
    "%%time\n",
    "d_amaz={'sec':350,\n",
    "    'minute':21000,\n",
    "    'hr':1260000,\n",
    "   'day':30240000,\n",
    "    'year':11037600000 \n",
    "    }\n",
    "print(d_amaz)\n",
    "for i in d_amaz:\n",
    "    print(i,end=\" \")\n",
    "print()\n"
   ]
  },
  {
   "cell_type": "markdown",
   "metadata": {},
   "source": [
    "# HASH FUNCTIONS\n",
    "Hashing refers to the process of transforming a piece of data (like a password or a file) into a unique, fixed-length code called a hash. This code is like a fingerprint of the data and is often used for security purposes. Here are some key points about hashing:\n",
    "\n",
    "Hashing is one-way. This means you can easily create a hash from data, but it's very difficult (practically impossible) to recreate the original data from the hash alone. This makes it useful for storing passwords securely, as you can verify a user's password by comparing their entered password's hash to the stored hash, without ever needing to know the actual password itself.\n",
    "\n",
    "Any change to the original data will result in a completely different hash. This is useful for checking data integrity, as you can re-generate the hash of a file and compare it to the stored hash to ensure the file hasn't been tampered with.\n",
    "\n",
    "Common hashing algorithms include MD5, SHA-1, and SHA-256.\n"
   ]
  },
  {
   "cell_type": "code",
   "execution_count": null,
   "metadata": {},
   "outputs": [],
   "source": [
    "\n",
    "%%time\n",
    "stock_prices[]\n",
    "with open ('list.csv','r') as f:\n",
    "    for line in f:\n",
    "        tokens=line.split(',')\n",
    "        day=tokens[0]\n",
    "        price=float(tokens[1])\n",
    "        stock_prices[day]=prices\n",
    "for element in stock_prices:\n",
    "    if element[0]=='10-Mar-2025':\n",
    "        print(element[1])"
   ]
  },
  {
   "cell_type": "code",
   "execution_count": null,
   "metadata": {},
   "outputs": [],
   "source": [
    "%%time\n",
    "stock_prices{}\n",
    "with open('list.csv','r') as f:\n",
    "    for line in f:\n",
    "        tokens=line.split(',')\n",
    "        day=tokens[0]\n",
    "        price=float(tokens[1])\n",
    "        stock_prices.append([day,price])\n",
    "stock_prices['10-Mar-2025']"
   ]
  },
  {
   "cell_type": "markdown",
   "metadata": {},
   "source": [
    "Implement Hash Table using ASCII"
   ]
  },
  {
   "cell_type": "code",
   "execution_count": null,
   "metadata": {},
   "outputs": [],
   "source": [
    "def get_hash(key):\n",
    "    hash=0\n",
    "    for char in key:\n",
    "        hash=hash+ord(char)\n",
    "    return hash%1000\n",
    "print(get_hash('Prajwal'))\n",
    "print(get_hash('cinchana'))\n"
   ]
  },
  {
   "cell_type": "markdown",
   "metadata": {},
   "source": [
    "4th CLASS"
   ]
  },
  {
   "cell_type": "code",
   "execution_count": null,
   "metadata": {},
   "outputs": [],
   "source": [
    "table={'I':1,\n",
    "       'V':5,\n",
    "       'X':10,\n",
    "       'L':50,\n",
    "       'C':100,\n",
    "       'D':500,\n",
    "       'M':1000}\n",
    "def roman_to_int(str1):\n",
    "    result=0\n",
    "    for i in range(len(str1)-1):\n",
    "        if table[str1[i]]<table[str1[i+1]]:\n",
    "            result=result-table[str1[i]]\n",
    "        else:\n",
    "            result=result+table[str1[i]]\n",
    "    return result+table[str1[-1]]\n",
    "roman=input(\"Input a roman number\")\n",
    "b=roman_to_int(roman)\n",
    "print(b)"
   ]
  },
  {
   "cell_type": "markdown",
   "metadata": {},
   "source": [
    "ord - Converts into Ascii"
   ]
  },
  {
   "cell_type": "code",
   "execution_count": null,
   "metadata": {},
   "outputs": [],
   "source": [
    "list(map(ord,'A'))"
   ]
  },
  {
   "cell_type": "code",
   "execution_count": null,
   "metadata": {},
   "outputs": [],
   "source": [
    "books=[\"The Little Prince\",\n",
    "       \"The Little Prince\",\n",
    "       \"The old man and the sea\",\n",
    "       \"The little Marmaid\",\n",
    "       \"Beauty and the beast\"\n",
    "       \"The last leaf\"]\n",
    "for book in books:\n",
    "    key=sum(map(ord,book))\n",
    "    print(key,book)"
   ]
  },
  {
   "cell_type": "code",
   "execution_count": 6,
   "metadata": {},
   "outputs": [],
   "source": [
    "class HASHTABLE:\n",
    "    def __init__(self,size):\n",
    "        self.size=size\n",
    "        self.table={}\n",
    "        for i in range(size):\n",
    "            self.table[i]=[]\n",
    "    def hash(self,key):\n",
    "        return key%self.size\n",
    "    def get(self,key):\n",
    "        return self.table[self.hash(key)]\n",
    "    def put(self,key,value):\n",
    "        bucket=self.table[self.hash(key)]\n",
    "        if value not in bucket:\n",
    "            bucket.append(value)\n",
    "\n",
    "\n",
    "    "
   ]
  },
  {
   "cell_type": "code",
   "execution_count": null,
   "metadata": {},
   "outputs": [],
   "source": [
    "table1=HASHTABLE(8)  #Constructor will be called with one parameter\n",
    "for key in table1.table.keys():\n",
    "    print(key,table1.table[key])"
   ]
  },
  {
   "cell_type": "code",
   "execution_count": null,
   "metadata": {},
   "outputs": [],
   "source": [
    "dir(HASHTABLE)"
   ]
  },
  {
   "cell_type": "code",
   "execution_count": null,
   "metadata": {},
   "outputs": [],
   "source": [
    "table2=HASHTABLE(4)\n",
    "organization=\"CIT KR PURAM\"\n",
    "key=sum(map(ord,organization))\n",
    "print(key,table2.hash(key))"
   ]
  },
  {
   "cell_type": "code",
   "execution_count": null,
   "metadata": {},
   "outputs": [],
   "source": [
    "\n",
    "books=[\"The Little Prince\",\n",
    "       \"The Little Prince\",\n",
    "       \"The old man and the sea\",\n",
    "       \"The little Marmaid\",\n",
    "       \"Beauty and the beast\"\n",
    "       \"The last leaf\"]\n",
    "for book in books:\n",
    "    key=sum(map(ord,book))\n",
    "    table.put(key,book)\n",
    "for key in table2.table.keys():\n",
    "    print(key,table2.table[key])"
   ]
  },
  {
   "cell_type": "markdown",
   "metadata": {},
   "source": [
    "convert arabic numerals to roman"
   ]
  },
  {
   "cell_type": "code",
   "execution_count": null,
   "metadata": {},
   "outputs": [],
   "source": [
    "class HASHTABLE:\n",
    "    def int_to_roman(self,num):\n",
    "        table={1000:'M',\n",
    "               900:'CM',\n",
    "               500:'D',\n",
    "               400:'CD',\n",
    "               100:'C',\n",
    "               90:'XC',\n",
    "               50:'L',\n",
    "               40:'XL',\n",
    "               10:'X',\n",
    "               5:'V',\n",
    "               4:'IV',\n",
    "               1:'I'}\n",
    "        res=''\n",
    "        for key,value in table.items():\n",
    "            "
   ]
  },
  {
   "cell_type": "code",
   "execution_count": null,
   "metadata": {},
   "outputs": [],
   "source": [
    "class HASHTABLE:\n",
    "    def int_to_roman(self,num):\n",
    "        table=[(1000,'M'),\n",
    "               (900,'CM'),\n",
    "               (500,'D'),\n",
    "               (400,'CD'),\n",
    "               (100,'C'),\n",
    "               (90,'XC'),\n",
    "               (50,'L'),\n",
    "               (40,'XL'),\n",
    "               (10,'X'),\n",
    "               (5,'V'),\n",
    "               (4,'IV'),\n",
    "               (1,'I')]\n",
    "        result=''\n",
    "        for (d,roman) in table:\n",
    "            print(\"roman\",d,roman)\n",
    "            #n=num//d\n",
    "            #num=num%d\n",
    "            n,num=divmod(num,d)\n",
    "            print(n,num)\n",
    "            result+=roman*n\n",
    "            print(\"result\",result)\n",
    "            \n",
    "        print()\n",
    "        return result\n",
    "print(HASHTABLE().int_to_roman(151))"
   ]
  },
  {
   "cell_type": "code",
   "execution_count": null,
   "metadata": {},
   "outputs": [],
   "source": [
    "import hashlib\n",
    "def sha256(input):\n",
    "    hash_objec=hashlib.sha256(input.encode('utf-8'))\n",
    "    hex_digest=hash_objec.hexdigest()\n",
    "    return hex_digest\n",
    "def main():\n",
    "    message=\"Hell, world\"\n",
    "    hash_value=sha256(message)\n",
    "    print(\"Message:\",message)\n",
    "    print(\"SHA-256 Hash:\",hash_value)\n",
    "if __name__==\"__main__\":\n",
    "    main()"
   ]
  },
  {
   "cell_type": "code",
   "execution_count": null,
   "metadata": {},
   "outputs": [],
   "source": [
    "import hashlib\n",
    "def bit256(input):\n",
    "    hash_objec=hashlib.sha256(input.encode('utf-8'))\n",
    "    hex_digest=hash_objec.hexdigest()\n",
    "    return hex_digest\n",
    "a=input(\"Enter string\")\n",
    "print(bit256(a))\n"
   ]
  },
  {
   "cell_type": "code",
   "execution_count": null,
   "metadata": {},
   "outputs": [],
   "source": [
    "print(hashlib.sha256(input(\"Enter String\").encode('utf-8')).hexdigest())\n"
   ]
  },
  {
   "cell_type": "code",
   "execution_count": null,
   "metadata": {},
   "outputs": [],
   "source": [
    "import hashlib\n",
    "def bit256(input):\n",
    "    hash_objec=hashlib.sha256(input.encode('utf-8'))\n",
    "    print(hash_objec)\n",
    "    hex_digest=hash_objec.hexdigest()\n",
    "    return hex_digest\n",
    "a=input(\"Enter string\")\n",
    "print(bit256(a))\n"
   ]
  },
  {
   "cell_type": "code",
   "execution_count": null,
   "metadata": {},
   "outputs": [],
   "source": [
    "help([object])  \n",
    "#or\n",
    "# help(list)"
   ]
  },
  {
   "cell_type": "code",
   "execution_count": null,
   "metadata": {},
   "outputs": [],
   "source": [
    "import networkx as nx\n",
    "import matplotlib.pyplot as plt\n",
    "social_network =nx.Graph()\n",
    "social_network.add_nodes_from([\"sidhath\",\n",
    "                               \"Rohan\",\n",
    "                               \"Adithya\",\n",
    "                               \"Suhas\",\n",
    "                               \"Prajwal\",\n",
    "                               \"Bharath\"])\n",
    "social_network.add_edges_from([(\"sidhath\",\"Rohan\"),\n",
    "                               (\"Rohan\",\"Bharath\"),\n",
    "                               (\"Suhas\",\"Prajwal\"),\n",
    "                               (\"Adithya\",\"sidhath\"),\n",
    "                               (\"Suhas\",\"Bharath\"),\n",
    "                               (\"Prajwal\",\"Bharath\"),\n",
    "                               (\"sidhath\",\"Bharath\")])\n",
    "nx.draw(social_network, with_labels=True,node_color='skyblue',node_size=3000,font_weight='bold')\n",
    "plt.show()"
   ]
  },
  {
   "cell_type": "code",
   "execution_count": null,
   "metadata": {},
   "outputs": [],
   "source": [
    "import networkx as nx\n",
    "import matplotlib.pyplot as plt\n",
    "social_network =nx.Graph()\n",
    "social_network.add_nodes_from([\"A\",\n",
    "                               \"B\",\n",
    "                               \"C\",\n",
    "                               \"D\",\n",
    "                               \"E\",\n",
    "                               \"F\"])\n",
    "social_network.add_edges_from([(\"A\",\"B\"),\n",
    "                               (\"B\",\"F\"),\n",
    "                               (\"D\",\"E\"),\n",
    "                               (\"C\",\"A\"),\n",
    "                               (\"D\",\"F\"),\n",
    "                               (\"E\",\"F\"),\n",
    "                               (\"A\",\"A\"),\n",
    "                               (\"F\",\"F\")])\n",
    "nx.draw(social_network, with_labels=True,node_color='red',node_size=200,font_weight='bold')\n",
    "plt.show()"
   ]
  },
  {
   "cell_type": "markdown",
   "metadata": {},
   "source": [
    "# Linear Search"
   ]
  },
  {
   "cell_type": "code",
   "execution_count": null,
   "metadata": {},
   "outputs": [],
   "source": [
    "%%time\n",
    "data=[ ]\n",
    "def insert(n):\n",
    "    print(\"Enter the\",n,\"elements\")\n",
    "    for i in range(n):\n",
    "        data.append(int(input()))\n",
    "def search(search):\n",
    "    for i in range(len(data)-1):\n",
    "        if(data[i]==search):\n",
    "            print(\"The element found at position :\",i+1)\n",
    "            break\n",
    "    else:print(\"Element not found\")\n",
    "if __name__==\"__main__\":\n",
    "    print(\"Enter the number of elements:\")\n",
    "    n=int(input())\n",
    "    insert(n)\n",
    "    print(\"Enter the search element\")\n",
    "    ser=int(input())\n",
    "    search(ser)\n",
    "    print()"
   ]
  },
  {
   "cell_type": "markdown",
   "metadata": {},
   "source": [
    "# Binary Search"
   ]
  },
  {
   "cell_type": "code",
   "execution_count": null,
   "metadata": {},
   "outputs": [],
   "source": [
    "%%time\n",
    "data=[]\n",
    "def insert(n):\n",
    "    print(\"Enter the\",n,\"elements in assending order\")\n",
    "    for i in range(n):\n",
    "        data.append(int(input()))\n",
    "def search(search):\n",
    "    low=0\n",
    "    high=len(data)-1\n",
    "    while(low<=high):\n",
    "        mid=(low+high)//2\n",
    "        if(data[mid]==search):\n",
    "            print(\"The element found at position :\",mid+1)\n",
    "            break\n",
    "        elif(data[mid]>search):\n",
    "            high=mid-1\n",
    "        else:\n",
    "            low=mid+1\n",
    "    else:print(\"Element not found\")\n",
    "if __name__==\"__main__\":\n",
    "    n=int(input(\"Enter the number of elements:\"))\n",
    "    insert(n)\n",
    "    ser=int(input(\"Enter the search element\"))\n",
    "    search(ser)\n",
    "    print()"
   ]
  },
  {
   "cell_type": "markdown",
   "metadata": {},
   "source": [
    "# EXAMPLE\n"
   ]
  },
  {
   "cell_type": "code",
   "execution_count": null,
   "metadata": {},
   "outputs": [],
   "source": [
    "s=\"fsdgh fghdg dgsuhhgk\"\n",
    "h=\"\"\n",
    "l=s\n",
    "for i in s.split():\n",
    "    if(len(i)>len(h)):\n",
    "        h=i\n",
    "    if(len(i)<len(l)):\n",
    "        l=i\n",
    "print(h)\n",
    "print(l)"
   ]
  },
  {
   "cell_type": "markdown",
   "metadata": {},
   "source": [
    "# Depth first search "
   ]
  },
  {
   "cell_type": "code",
   "execution_count": null,
   "metadata": {},
   "outputs": [],
   "source": [
    "def dfs(graph,node,visited):\n",
    "    if node not in visited:\n",
    "        visited.add(node)\n",
    "        for neighbor in graph[node]:\n",
    "            dfs(graph,neighbor,visited)\n",
    "graph={\n",
    "    1:{1,2},\n",
    "    2:{4,5},\n",
    "    3:{6},\n",
    "    4:set(),\n",
    "    5:(),\n",
    "    6:()\n",
    "}\n",
    "print(graph)\n",
    "start_node=int(input(\"Enter your Starting Node:\"))\n",
    "visited_nodes=set()\n",
    "dfs(graph,start_node,visited_nodes)\n",
    "print(f\"DFS result from node {start_node}:{visited_nodes}\")"
   ]
  },
  {
   "cell_type": "markdown",
   "metadata": {},
   "source": [
    "# 5th class\n",
    "#### Sorting algorithms"
   ]
  },
  {
   "cell_type": "code",
   "execution_count": null,
   "metadata": {},
   "outputs": [],
   "source": [
    "# bubble sort\n",
    "products=[{'name':'Mobile','price':15000},\n",
    "          {'name':'PC','price':60000},\n",
    "          {'name':'Watch','price':5000},\n",
    "          {'name':'Dress','price':3500}]\n",
    "def bubbleSort(data):\n",
    "    n=len(data)\n",
    "    for i in range(n):\n",
    "        for j in range(n-i-1):\n",
    "            if(data[j]>data[j+1]):\n",
    "                temp=data[j]\n",
    "                data[j]=data[j+1]\n",
    "                data[j+1]=temp\n",
    "price=[15000,34000,11243,4592,4680,1,4]\n",
    "bubbleSort(price)"
   ]
  },
  {
   "cell_type": "code",
   "execution_count": null,
   "metadata": {},
   "outputs": [],
   "source": [
    "\"\"\"\"def selection_sort(data):\n",
    "  right = []\n",
    "  while len(data) > 0:\n",
    "    print(right,data)\n",
    "    smallest = data.index(min(data))\n",
    "    right.append(data[smallest])\n",
    "    data.pop(smallest)\n",
    "  return right\n",
    "price=[15000,34000,11243,4592,4680,1,4]\n",
    "selection_sort(price)\"\"\"\""
   ]
  },
  {
   "cell_type": "code",
   "execution_count": null,
   "metadata": {},
   "outputs": [],
   "source": [
    "# Python3 program for Bubble Sort Algorithm Implementation\n",
    "def bubbleSort(arr):\n",
    "\t\n",
    "\tn = len(arr)\n",
    "\n",
    "\t# For loop to traverse through all \n",
    "\t# element in an array\n",
    "\tfor i in range(n):\n",
    "\t\tfor j in range(0, n - i - 1):\n",
    "\t\t\t\n",
    "\t\t\t# Range of the array is from 0 to n-i-1\n",
    "\t\t\t# Swap the elements if the element found \n",
    "\t\t\t#is greater than the adjacent element\n",
    "\t\t\tif arr[j] > arr[j + 1]:\n",
    "\t\t\t\tarr[j], arr[j + 1] = arr[j + 1], arr[j]\n",
    "\t\t\t\t\n",
    "# Driver code\n",
    "\n",
    "# Example to test the above code\n",
    "arr = [ 2, 1, 10, 23 ]\n",
    "\n",
    "bubbleSort(arr)\n",
    "\n",
    "print(\"Sorted array is:\")\n",
    "for i in range(len(arr)):\n",
    "\tprint(\"%d\" % arr[i])\n"
   ]
  },
  {
   "cell_type": "code",
   "execution_count": null,
   "metadata": {},
   "outputs": [],
   "source": [
    "def insertion_sort(data):\n",
    "  n = len(data)\n",
    "  for i in range(1,n):\n",
    "    print(data)\n",
    "    x = data[i]\n",
    "    j = i-1\n",
    "    while j >=0 and x < data[j]:\n",
    "      data[j+1] = data[j]\n",
    "      j = j-1\n",
    "    data[j+1] = x\n",
    "    print(data)\n",
    "price=[15000,34000,11243,4592,4680,1,4]\n",
    "print(insertion_sort(price))"
   ]
  },
  {
   "cell_type": "code",
   "execution_count": null,
   "metadata": {},
   "outputs": [],
   "source": [
    "# Creating a function for insertion sort algorithm\n",
    "def insertion_sort(list1): \n",
    "\n",
    "\t\t# Outer loop to traverse on len(list1) \n",
    "\t\tfor i in range(1, len(list1)): \n",
    "\n",
    "\t\t\ta = list1[i] \n",
    "\n",
    "\t\t\t# Move elements of list1[0 to i-1], \n",
    "\t\t\t# which are greater to one position\n",
    "\t\t\t# ahead of their current position \n",
    "\t\t\tj = i - 1\n",
    "\t\t\n",
    "\t\t\twhile j >= 0 and a < list1[j]: \n",
    "\t\t\t\tlist1[j + 1] = list1[j] \n",
    "\t\t\t\tj -= 1\n",
    "\t\t\t\t\n",
    "\t\t\tlist1[j + 1] = a \n",
    "\t\t\t\n",
    "\t\treturn list1 \n",
    "\t\t\t\n",
    "# Driver code\n",
    "list1 = [ 7, 2, 1, 6 ] \n",
    "print(\"The unsorted list is:\", list1) \n",
    "print(\"The sorted new list is:\", insertion_sort(list1))\n"
   ]
  },
  {
   "cell_type": "code",
   "execution_count": null,
   "metadata": {},
   "outputs": [],
   "source": [
    "products = [\n",
    "    {'name':'Mobile','price':15000},\n",
    "    {'name':'PC','price':25000},\n",
    "    {'name':'Watch','price':3500},\n",
    "    {'name':'Goggles','price':2000},\n",
    "    {'name':'Chudidar','price':3000},\n",
    "    {'name':'Jacket','price':1500},\n",
    "    {'name':'Chocolates','price':500},\n",
    "    {'name':'Ice Cream','price':150},\n",
    "    {'name':'Chips','price':50},\n",
    "    {'name':'Pen','price':5}\n",
    "]\n",
    "def bubble_sort(products):\n",
    "  n = len(products)\n",
    "  for i in range(n):\n",
    "    for j in range(0,n-i-1):\n",
    "      if products[j]['price'] > products[j+1]['price']:\n",
    "        products[j],products[j+1]=products[j+1],products[j]\n",
    "  return products\n",
    "print(\"PRICE SORT\")\n",
    "for i in range(len(products)):\n",
    "  print(products[i])\n",
    "\n",
    "\n",
    "def bubble_sort(products):\n",
    "  n = len(products)\n",
    "  for i in range(n):\n",
    "    for j in range(0,n-i-1):\n",
    "      if products[j]['name'] > products[j+1]['name']:\n",
    "        products[j],products[j+1]=products[j+1],products[j]\n",
    "  return products\n",
    "print()\n",
    "print(\"NAME SORT\")\n",
    "bubble_sort(products)"
   ]
  },
  {
   "cell_type": "code",
   "execution_count": null,
   "metadata": {},
   "outputs": [],
   "source": [
    "%%time\n",
    "products = [\n",
    "    {'name':'Mobile','price':15000},\n",
    "    {'name':'PC','price':25000},\n",
    "    {'name':'Watch','price':3500},\n",
    "    {'name':'Goggles','price':2000},\n",
    "    {'name':'Chudidar','price':3000},\n",
    "    {'name':'Jacket','price':1500},\n",
    "    {'name':'Chocolates','price':500},\n",
    "    {'name':'Ice Cream','price':150},\n",
    "    {'name':'Chips','price':50},\n",
    "    {'name':'Pen','price':5}\n",
    "]\n",
    "def selction_sort(products):\n",
    "  n = len(products)\n",
    "  for i in range(n):\n",
    "    min_index = i\n",
    "    for j in range(i+1,n):\n",
    "      if products[j]['price'] < products[min_index]['price']:\n",
    "        min_index = j\n",
    "        products[i],products[min_index] = products[min_index],products[i]\n",
    "  return products\n",
    "\n",
    "selection_sort(products)"
   ]
  },
  {
   "cell_type": "code",
   "execution_count": null,
   "metadata": {},
   "outputs": [],
   "source": [
    "%%time\n",
    "products = [\n",
    "    {'name':'Mobile','price':15000},\n",
    "    {'name':'PC','price':25000},\n",
    "    {'name':'Watch','price':3500},\n",
    "    {'name':'Goggles','price':2000},\n",
    "    {'name':'Chudidar','price':3000},\n",
    "    {'name':'Jacket','price':1500},\n",
    "    {'name':'Chocolates','price':500},\n",
    "    {'name':'Ice Cream','price':150},\n",
    "    {'name':'Chips','price':50},\n",
    "    {'name':'Pen','price':5}\n",
    "]\n",
    "\n",
    "def insertion_sort(products):\n",
    "  n = len(products)\n",
    "  for i in range(1,n):\n",
    "    key = products[i]\n",
    "    j = i -1\n",
    "    while j>=0 and key['price'] < products[j]['price']:\n",
    "      products[j+1] = products[j]\n",
    "      j = j - 1\n",
    "      products[j + 1] = key\n",
    "  return products\n",
    "\n",
    "insertion_sort(products)"
   ]
  },
  {
   "cell_type": "code",
   "execution_count": null,
   "metadata": {},
   "outputs": [],
   "source": [
    "price=[2,6,1,9,3,0,4]\n",
    "def quick_sort(data,low,high):\n",
    "  if low < high:\n",
    "    pivotpoint = partition(data,low,high)\n",
    "    quick_sort(data,low,pivotpoint-1)\n",
    "    quick_sort(data,pivotpoint+1,high)\n",
    "#######################################################\n",
    "def partition(data,low,high):\n",
    "  pivot = data[low]\n",
    "  left,right = low+1,high\n",
    "  while left < right:\n",
    "    print(data)\n",
    "    while left <= right and data[left] <= pivot:\n",
    "      left = left +1\n",
    "    while left <= right and data[right] >=pivot:\n",
    "      right = right - 1\n",
    "    if left < right:\n",
    "      data[left],data[right] = data[right],data[left]\n",
    "  pivotpoint = right\n",
    "  data[low],data[pivotpoint] = data[pivotpoint],data[low]\n",
    "  return pivotpoint\n",
    "quick_sort(price,0,len(price)-1)\n",
    "print(price)"
   ]
  },
  {
   "cell_type": "code",
   "execution_count": null,
   "metadata": {},
   "outputs": [],
   "source": [
    "def money_despense(amount):\n",
    "    atm=[2000,500,100,10]\n",
    "    Tnotes=[]\n",
    "    for notes in atm:\n",
    "        while(amount>=notes):\n",
    "            Tnotes.append(notes)\n",
    "            amount-=notes\n",
    "    return Tnotes\n",
    "amount=int(input(\"Enter the amount:\"))\n",
    "\n",
    "if(amount%10!=0): \n",
    "    print(\"I CANT\")\n",
    "else:\n",
    "    result=money_despense(amount)\n",
    "    print(result)"
   ]
  },
  {
   "cell_type": "code",
   "execution_count": null,
   "metadata": {},
   "outputs": [],
   "source": [
    "def divide_conquer_dispense(amount):\n",
    "    atm=[2000,500,100,10]\n",
    "    atm.sort(reverse=True)\n",
    "    dp=[float('inf')]*(amount+1)\n",
    "    dp[0]=0\n",
    "    for i in range(1,amount+1):\n",
    "        for notes in atm:\n",
    "            if i>=notes:\n",
    "                dp[i]=min(dp[i],dp[i-notes]+1)\n",
    "    if dp[amount]==float('inf'):\n",
    "        return \"No valid dispense\"\n",
    "    result=[]\n",
    "    remaining_amount=amount\n",
    "    for notes in atm:\n",
    "        while (remaining_amount>=notes and dp[remaining_amount-notes]==dp[remaining_amount]-1):\n",
    "            result.append(notes)\n",
    "            remaining_amount-=notes\n",
    "    return result\n",
    "amount=int(input(\"Enter the amount:\"))\n",
    "result=divide_conquer_dispense(amount)\n",
    "print(result)"
   ]
  },
  {
   "cell_type": "code",
   "execution_count": null,
   "metadata": {},
   "outputs": [],
   "source": [
    "def dynamic_dispense(amount):\n",
    "    atm=[2000,500,100,10]\n",
    "    atm.sort(reverse=True)\n",
    "    dp=[float('inf')]*(amount+1)\n",
    "    dp[0]=0\n",
    "    for notes in atm:\n",
    "        for i in range(notes,amount+1):\n",
    "            dp[i]=min(dp[i],dp[i-notes]+1)   \n",
    "    result=[]\n",
    "    while amount>0:\n",
    "        for notes in atm:\n",
    "            if amount>=notes and dp[amount]==dp[amount-notes]+1:\n",
    "                result.append(notes)\n",
    "                amount-=notes\n",
    "                break\n",
    "    return result\n",
    "amount=int(input(\"Enter the amount\"))\n",
    "print(dynamic_dispense(amount))\n",
    "    \n"
   ]
  }
 ],
 "metadata": {
  "kernelspec": {
   "display_name": "Python 3",
   "language": "python",
   "name": "python3"
  },
  "language_info": {
   "codemirror_mode": {
    "name": "ipython",
    "version": 3
   },
   "file_extension": ".py",
   "mimetype": "text/x-python",
   "name": "python",
   "nbconvert_exporter": "python",
   "pygments_lexer": "ipython3",
   "version": "3.11.7"
  }
 },
 "nbformat": 4,
 "nbformat_minor": 2
}
