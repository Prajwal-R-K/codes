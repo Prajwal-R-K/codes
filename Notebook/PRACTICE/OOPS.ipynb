{
 "cells": [
  {
   "cell_type": "markdown",
   "metadata": {},
   "source": [
    "# CREATING CLASS\n",
    "* A class is a collection of objects. A class contains the blueprints or the prototype from which the objects\n",
    "   are being created. It is a logical entity that contains some attributes and methods. \n",
    "* Classes are created by keyword class.\n",
    "* Attributes are the variables that belong to a class.\n",
    "* Attributes are always public and can be accessed using the dot (.) operator. Eg.: Myclass.Myattribute"
   ]
  },
  {
   "cell_type": "code",
   "execution_count": null,
   "metadata": {},
   "outputs": [],
   "source": [
    "# Creating an Empty class\n",
    "\n",
    "class Empty:\n",
    "    pass        \n",
    "a=Empty()\n",
    "print(id(a))    "
   ]
  },
  {
   "cell_type": "markdown",
   "metadata": {},
   "source": [
    "# pass keyword\n",
    "    The pass statement is essentially a way of saying \"do nothing.\"\n",
    "    The pass statement ensures that the indentation and structure of your code remain valid while allowing you to defer the implementation of  \n",
    "            specific code sections. It's a useful tool during development when you want to create a placeholder for future work.\n",
    "    If some code to be executed, but you haven't implemented that code yet. Using pass allows the code to remain syntactically correct."
   ]
  },
  {
   "cell_type": "code",
   "execution_count": null,
   "metadata": {},
   "outputs": [],
   "source": [
    "class Myclass:\n",
    "    def a(self):        #defining method a()\n",
    "        b=10\n",
    "        print(\"MyClass\")\n",
    "obj=Myclass()       #Myclass() calls Default Constructor and we are creating an object(obj) of class(Myclass)\n",
    "int_obj=3           #Integer type\n",
    "str_obj='qwer'      #String type\n",
    "print(type(int_obj))\n",
    "print(type(str_obj))\n",
    "print(type(obj))\n"
   ]
  },
  {
   "cell_type": "markdown",
   "metadata": {},
   "source": [
    "# Python Objects\n",
    "* The object is an entity that has a state and behavior associated with it. It may be any real-world object \n",
    "    like a mouse, keyboard, chair, table, pen, etc. Integers, strings, floating-point numbers, even arrays, and dictionaries, are all objects. More specifically, any single integer or any single string is an object. The number 12 is an object, the string “Hello, world” is an object, a list is an object that can hold other objects, and so on. You’ve been using objects all along and may not even realize it.\n",
    "    An object consists of:\n",
    "\n",
    "* State: It is represented by the attributes of an object. It also reflects the properties of an object.\n",
    "* Behavior: It is represented by the methods of an object. It also reflects the response of an object to other\n",
    "    objects.\n",
    "* Identity: It gives a unique name to an object and enables one object to interact with other objects.\n",
    "    To understand the state, behavior, and identity let us take the example of the class dog (explained above). \n",
    "\n",
    "* The identity can be considered as the name of the dog.\n",
    "* State or Attributes can be considered as the breed, age, or color of the dog.\n",
    "* The behavior can be considered as to whether the dog is eating or sleeping."
   ]
  },
  {
   "cell_type": "markdown",
   "metadata": {},
   "source": [
    "In above \"int\" is class and \"str\" is also class\n",
    "Myclass is also class\n",
    "The difference is \"int\" and \"str\" is Built-in-class and \"Myclass\" is our class(User defined class)\n",
    "int_obj(variable) is object of \"int\"(integer)\n",
    "str_obj(variable) is object of \"str\"(String)"
   ]
  },
  {
   "cell_type": "markdown",
   "metadata": {},
   "source": [
    "# How to access the methods or variables of class\n",
    "    There are two ways as shown in below\n"
   ]
  },
  {
   "cell_type": "code",
   "execution_count": null,
   "metadata": {},
   "outputs": [],
   "source": [
    "class Computer:\n",
    "    def method(self):                   # self is parameter\n",
    "        print(\"Accesed\")\n",
    "a=Computer() # Creating an object of Computer and the reference is stored in a variable of type Computer.\n",
    "b=Computer()\n",
    "Computer.method(a) #Method 1 # Here we are passing b as an argument\n",
    "a.method()       #Method 2 # In this the \"a\" is passeed by default ;here \"a\" is object and object itself is passing an object as an argument.\n",
    "\n",
    "Computer.method(b) #Method 1  # Here we are passing b as an argument  ---  same output as a.method()\n",
    "b.method()       #Method 2 # In this the \"b\" is passeed by default ;here \"b\" is object and object itself is passing an object as an argument\n",
    "\n",
    "Computer().method()  #Method 3\n",
    "c=Computer().method()  #Method 3\n",
    "\n",
    "a=11\n",
    "print(a.bit_length())\n",
    "\n",
    "# In method 2 we are not passing an argument,it is done automatically"
   ]
  },
  {
   "cell_type": "markdown",
   "metadata": {},
   "source": [
    "# The Python self  \n",
    "* Class methods must have an extra first parameter in the method definition. We do not give a value for this\n",
    "    parameter when we call the method, Python provides it.\n",
    "* If we have a method that takes no arguments, then we still have to have one argument.\n",
    "* This is similar to this pointer in C++ and this reference in Java.\n",
    "* When we call a method of this object as myobject.method(arg1, arg2), this is automatically converted by\n",
    "    Python into MyClass.method(myobject, arg1, arg2) – this is all the special self is about.\n",
    "\n",
    " Self represents the instance of the class. By using the “self”  we can access the attributes and methods of the class in Python. It binds the attributes with the given arguments. The reason you need to use self. is because Python does not use the @ syntax to refer to instance attributes. Python decided to do methods in a way that makes the instance to which the method belongs be passed automatically, but not received automatically: the first parameter of methods is the instance the method is called on.\n",
    "\n",
    "### What is the use of self in Python?\n",
    "When working with classes in Python, the term “self” refers to the instance of the class that is currently being used. It is customary to use “self” as the first parameter in instance methods of a class. Whenever you call a method of an object created from a class, the object is automatically passed as the first argument using the “self” parameter. This enables you to modify the object’s properties and execute tasks unique to that particular instance."
   ]
  },
  {
   "cell_type": "markdown",
   "metadata": {},
   "source": [
    "# __init__ Method\n",
    "\n",
    "* The __init__ method is the constructor, which is called when you create an instance of the class(object).\n",
    "* This method is used to initialize the attributes of the object. Keep in mind that the self parameter in the\n",
    "    constructor refers to the instance being created and allows you to access and set its attributes. By following these guidelines, you can create powerful and efficient classes in Python.\n",
    "\n",
    "* self - a reference to the instance being created"
   ]
  },
  {
   "cell_type": "code",
   "execution_count": null,
   "metadata": {},
   "outputs": [],
   "source": [
    "class Computer:\n",
    "    a=100 # Class Variable\n",
    "    b=2\n",
    "    def __init__(self,name,age,num):\n",
    "        self.a=0 # Instance variable specific to each object\n",
    "        Computer.a=num # Changing class variable\n",
    "        b=1  \n",
    "        self.name=name\n",
    "        self.age=age\n",
    "        print(self.name,self.age,self.a,Computer.a,b)\n",
    "print(Computer.a)\n",
    "a=Computer(\"swedrf\",23,0)\n",
    "b=Computer(\"wert\",34,1)     #  both objects have different self which contain their attributes\n",
    "# c=Computer() #ERROR\n",
    "Computer.__init__(a,\"fgh\",67,2)\n",
    "c=Computer.__init__(a,\"fgh\",67,3)\n",
    "print(type(c))\n",
    "print(type(a))\n",
    "print(Computer.a)\n",
    "print(a.a)\n",
    "print(a.b) # Refers to class Variable\n",
    "print(a.age)\n"
   ]
  },
  {
   "cell_type": "markdown",
   "metadata": {},
   "source": [
    "*  ‘ self ‘ is not a keyword in Python. Self is just a parameter name used in instance methods to refer to the instance itself.\n",
    "\n",
    "##### In a more clear way you can say that SELF has the following Characteristic-\n",
    "\n",
    "* Self: Pointer to Current Object\n",
    "* The self is always pointing to the Current Object. When you create an instance of a class, you’re essentially\n",
    "    creating an object with its own set of attributes and methods."
   ]
  },
  {
   "cell_type": "code",
   "execution_count": null,
   "metadata": {},
   "outputs": [],
   "source": [
    "\n",
    "class check:\n",
    "    def __init__(self):\n",
    "        print(\"Address of self = \",id(self))\n",
    " \n",
    "obj = check()\n",
    "print(\"Address of class object = \",id(obj))\n",
    "\n",
    "\"\"\"\n",
    "def __init__(x, y):\n",
    "        # This will cause an error because there's no reference to the instance (self)\n",
    "        # to which the attributes (x and y) should be attached.\n",
    "\"\"\""
   ]
  },
  {
   "cell_type": "code",
   "execution_count": null,
   "metadata": {},
   "outputs": [],
   "source": [
    "class Computer:\n",
    "    a=3\n",
    "    def __init__(self):\n",
    "        a=0\n",
    "        self.name=None\n",
    "a=Computer()\n",
    "b=Computer()\n",
    "a.name='tyu'\n",
    "b.name='ERTY'\n",
    "print(a.name)\n",
    "print(b.name)\n",
    "print(a.a)"
   ]
  },
  {
   "cell_type": "code",
   "execution_count": null,
   "metadata": {},
   "outputs": [],
   "source": [
    "class Computer:\n",
    "    a=3\n",
    "    def method(self):\n",
    "        print(self.name,self.age)\n",
    "a=Computer()\n",
    "b=Computer()\n",
    "a.name='tyu'\n",
    "a.age=90\n",
    "b.name='ERTY'\n",
    "b.age=67\n",
    "print(a.name)\n",
    "print(b.name)\n",
    "print(a.age)\n",
    "print(b.age)\n",
    "a.method()\n",
    "b.method()\n",
    "Computer.method(a)\n",
    "Computer.method(b)"
   ]
  },
  {
   "cell_type": "markdown",
   "metadata": {},
   "source": [
    "# The self Parameter\n",
    "* The self parameter is a reference to the current instance of the class, and is used to access variables that\n",
    "    belongs to the class.\n",
    "* It does not have to be named self , you can call it whatever you like, but it has to be the first parameter\n",
    "    of any function in the class."
   ]
  },
  {
   "cell_type": "code",
   "execution_count": null,
   "metadata": {},
   "outputs": [],
   "source": [
    "class Person:\n",
    "  def __init__(mysillyobject, name, age):\n",
    "    mysillyobject.name = name\n",
    "    mysillyobject.age = age\n",
    "\n",
    "  def myfunc(abc):\n",
    "    print(\"Hello my name is \" + abc.name)\n",
    "\n",
    "p1 = Person(\"John\", 36)\n",
    "p1.myfunc()\n"
   ]
  },
  {
   "cell_type": "markdown",
   "metadata": {},
   "source": [
    "# Delete Object Properties \n",
    "   * You can delete properties on objects by using the del keyword\n",
    "\n",
    "# Delete Objects\n",
    "   * You can delete objects by using the del keyword"
   ]
  },
  {
   "cell_type": "code",
   "execution_count": 10,
   "metadata": {},
   "outputs": [
    {
     "name": "stdout",
     "output_type": "stream",
     "text": [
      "Hello my name is John\n",
      "Hello my name is hfjdkxl\n",
      "None\n",
      "54\n"
     ]
    }
   ],
   "source": [
    "class Person:\n",
    "  def __init__(self, name, age):\n",
    "    self.name = name\n",
    "    self.age = age\n",
    "    a=32\n",
    "\n",
    "  def myfunc(self):\n",
    "    print(\"Hello my name is \" + self.name)  # After complition of this line at default the method will return None\n",
    "\n",
    "p1 = Person(\"John\", 36)\n",
    "p2=Person(\"cilli\",54)\n",
    "p1.myfunc()\n",
    "c=Person(\"hfjdkxl\",8).myfunc()\n",
    "print(c)\n",
    "\n",
    "del p1.age    # Delete Object Properties \n",
    "# print(p1.age)    --- ERROR    \n",
    "\n",
    "del p1\n",
    "#print(p1)    #----- ERROR\n",
    "print(p2.age)                                                         "
   ]
  },
  {
   "cell_type": "markdown",
   "metadata": {},
   "source": [
    "# Class Method\n",
    "In the below example, name is a class variable. If we want to create a class method we must \n",
    "use @classmethod decorator and cls as a parameter for that function.\n",
    "\n",
    "#### In below example\n",
    "The info() function returns the class variable\n",
    " without creating an object the info() method is called ---- (By using -- class_Name.Member)\n",
    " To access the class variable we use below method --- the method that returns class variable withod using an object"
   ]
  },
  {
   "cell_type": "code",
   "execution_count": 26,
   "metadata": {},
   "outputs": [
    {
     "name": "stdout",
     "output_type": "stream",
     "text": [
      "Student\n",
      "Student\n"
     ]
    }
   ],
   "source": [
    "\n",
    "class Student: \n",
    "    name ='Student'  # Class Variable\n",
    "    def __init__(self, a, b):\n",
    "        self.a = a # Instance Variale\n",
    "        self.b = b \n",
    "    @classmethod \n",
    "    def info(cls): # cls can be any name\n",
    "        return cls.name\n",
    "print(Student.info()) \n",
    "#  print(Student.name)  # "
   ]
  },
  {
   "cell_type": "markdown",
   "metadata": {},
   "source": [
    "# Static Method \n",
    "A static method can be called without an object for that class, using the class name directly. If you want to \n",
    "do something extra with a class we use static methods.\n",
    "\n",
    "For example, If you want to print factorial of a number then we don't need to use class variables or instance \n",
    "variables to print the factorial of a number. We just simply pass a number to the static method that we have \n",
    "created and it returns the factorial. "
   ]
  },
  {
   "cell_type": "code",
   "execution_count": 28,
   "metadata": {},
   "outputs": [
    {
     "name": "stdout",
     "output_type": "stream",
     "text": [
      "This is method\n"
     ]
    }
   ],
   "source": [
    "class Student: \n",
    "    name ='Student'  # Class Variable\n",
    "    def __init__(self, a, b):\n",
    "        self.a = a # Instance Variale\n",
    "        self.b = b \n",
    "    @staticmethod\n",
    "    def info():\n",
    "        return \"This is Student class\"\n",
    "print(Student.info()) "
   ]
  },
  {
   "cell_type": "markdown",
   "metadata": {},
   "source": [
    "# Python Inheritance\n",
    "* Inheritance allows us to define a class that inherits all the methods and properties from another class.\n",
    "* Parent class is the class being inherited from, also called base class.\n",
    "* Child class is the class that inherits from another class, also called derived class.\n",
    "* The inheritance is the process of acquiring the properties of one class to another class. "
   ]
  },
  {
   "cell_type": "markdown",
   "metadata": {},
   "source": [
    "# Create a Parent Class\n",
    "* Any class can be a parent class, so the syntax is the same as creating any other class\n",
    "*  Base class or Superclass. \n",
    "\n",
    "# Create a Child Class\n",
    "* To create a class that inherits the functionality from another class, send the parent class as a parameter \n",
    "    when creating the child class\n",
    "*  Derived Class or Subclass. \n"
   ]
  },
  {
   "cell_type": "code",
   "execution_count": 29,
   "metadata": {},
   "outputs": [
    {
     "name": "stdout",
     "output_type": "stream",
     "text": [
      "Mike Olsen\n"
     ]
    }
   ],
   "source": [
    "class Person:\n",
    "  def __init__(self, fname, lname):\n",
    "    self.firstname = fname\n",
    "    self.lastname = lname\n",
    "\n",
    "  def printname(self):\n",
    "    print(self.firstname, self.lastname)\n",
    "\n",
    "class Student(Person):\n",
    "  pass\n",
    "\n",
    "x = Student(\"Mike\", \"Olsen\")\n",
    "x.printname()\n"
   ]
  },
  {
   "cell_type": "markdown",
   "metadata": {},
   "source": [
    "* When you add the __init__() function, the child class will no longer inherit the parent's __init__() function.\n",
    "* Note: The child's __init__() function overrides the inheritance of the parent's __init__() function.\n",
    "* To keep the inheritance of the parent's __init__() function, add a call to the parent's __init__() function"
   ]
  },
  {
   "cell_type": "code",
   "execution_count": null,
   "metadata": {},
   "outputs": [],
   "source": [
    "class Person:\n",
    "  def __init__(self, fname, lname):\n",
    "    self.firstname = fname\n",
    "    self.lastname = lname\n",
    "\n",
    "  def printname(self):\n",
    "    print(self.firstname, self.lastname)\n",
    "\n",
    "class Student(Person):\n",
    "  def __init__(self, fname, lname):\n",
    "    Person.__init__(self,fname,lname)\n",
    "\n",
    "x = Student(\"Mike\", \"Olsen\")\n",
    "x.printname()\n"
   ]
  },
  {
   "cell_type": "markdown",
   "metadata": {},
   "source": [
    "# Use the super() Function\n",
    "* Python also has a super() function that will make the child class inherit all the methods and properties from\n",
    "    its parent.\n",
    "* By using the super() function, you do not have to use the name of the parent element, it will automatically\n",
    "    inherit the methods and properties from its parent."
   ]
  },
  {
   "cell_type": "code",
   "execution_count": null,
   "metadata": {},
   "outputs": [],
   "source": [
    "class Person:\n",
    "  def __init__(self, fname, lname):\n",
    "    self.firstname = fname\n",
    "    self.lastname = lname\n",
    "\n",
    "  def printname(self):\n",
    "    print(self.firstname, self.lastname)\n",
    "\n",
    "class Student(Person):\n",
    "  def __init__(self, fname, lname):\n",
    "    super().__init__(fname, lname)\n",
    "\n",
    "x = Student(\"Mike\", \"Olsen\")\n",
    "x.printname()\n",
    "# By using the super() function, you do not have to use the name of the parent element, \n",
    "# it will automatically inherit the methods and properties from its parent."
   ]
  },
  {
   "cell_type": "code",
   "execution_count": null,
   "metadata": {},
   "outputs": [],
   "source": [
    "class Person:\n",
    "  def __init__(self, fname, lname):\n",
    "    self.firstname = fname\n",
    "    self.lastname = lname\n",
    "\n",
    "  def printname(self):\n",
    "    print(self.firstname, self.lastname)\n",
    "\n",
    "class Student(Person):\n",
    "  def __init__(self, fname, lname, year):\n",
    "    super().__init__(fname, lname)\n",
    "    self.graduationyear = 12\n",
    "\n",
    "x = Student(\"Mike\", \"Olsen\", 2019)\n",
    "print(x.graduationyear)\n",
    "x.printname()\n",
    "Student.printname(x)\n",
    "print(Student(\"wdsd\",\"sjfh\",35).firstname)\n",
    "print(Student(\"wdsd\",\"sjfh\",35).graduationyear)\n",
    "# print(Person(\"edui\",\"iufvi\").graduationyear)  --- ERROR"
   ]
  },
  {
   "cell_type": "code",
   "execution_count": 30,
   "metadata": {},
   "outputs": [
    {
     "name": "stdout",
     "output_type": "stream",
     "text": [
      "Super Class\n",
      "Welcome Mike Olsen to the class of 2019\n",
      "Super Class\n",
      "Mike Olsen\n",
      "Mike Olsen\n",
      "Mike Olsen\n",
      "qwe rtry\n",
      "rtyu fghjk\n"
     ]
    }
   ],
   "source": [
    "class Person:\n",
    "  def __init__(self, fname, lname):\n",
    "    self.firstname = fname\n",
    "    self.lastname = lname\n",
    "\n",
    "  def printname(self):\n",
    "    print(self.firstname, self.lastname)\n",
    "\n",
    "  def welcome(self_):\n",
    "    print(\"Super Class\")\n",
    "\n",
    "class Student(Person):\n",
    "  def __init__(self, fname, lname, year):\n",
    "    super().__init__(fname, lname)\n",
    "    self.graduationyear = year\n",
    "\n",
    "  def welcome(self):\n",
    "    super().welcome()\n",
    "    print(\"Welcome\", self.firstname, self.lastname, \"to the class of\", self.graduationyear)\n",
    "    super().welcome()\n",
    "x = Student(\"Mike\", \"Olsen\", 2019)\n",
    "x.welcome()\n",
    "x.printname()\n",
    "Person.printname(x)\n",
    "Student.printname(x)\n",
    "Student(\"qwe\",\"rtry\",456).printname()\n",
    "z=Person(\"rtyu\",\"fghjk\")\n",
    "z.printname()"
   ]
  },
  {
   "cell_type": "markdown",
   "metadata": {},
   "source": [
    "# Python Iterators\n",
    "* An iterator is an object that contains a countable number of values.\n",
    "* An iterator is an object that can be iterated upon, meaning that you can traverse through all the values.\n",
    "* Technically, in Python, an iterator is an object which implements the iterator protocol, which consist of the\n",
    "    methods __iter__() and __next__()\n",
    "\n",
    "* Lists, tuples, dictionaries, and sets are all iterable objects. They are iterable containers which you can get\n",
    "    an iterator from.\n",
    "* All these objects have a iter() method which is used to get an iterator:"
   ]
  },
  {
   "cell_type": "code",
   "execution_count": null,
   "metadata": {},
   "outputs": [],
   "source": [
    "# Return an iterator from a tuple, and print each value\n",
    "\n",
    "mytuple = (\"apple\", \"banana\", \"cherry\")\n",
    "myit = iter(mytuple)\n",
    "\n",
    "print(next(myit))\n",
    "print(next(myit))\n",
    "print(next(myit))"
   ]
  },
  {
   "cell_type": "markdown",
   "metadata": {},
   "source": [
    "# Strings\n",
    "* Even strings are iterable objects, and can return an iterator\n",
    "* Strings are also iterable objects, containing a sequence of characters\n",
    "## Looping Through an Iterator\n",
    "* We can also use a for loop to iterate through an iterable object"
   ]
  },
  {
   "cell_type": "code",
   "execution_count": null,
   "metadata": {},
   "outputs": [],
   "source": [
    "mystr = \"banana\"\n",
    "myit = iter(mystr)\n",
    "\n",
    "print(next(myit))\n",
    "print(next(myit))\n",
    "print(next(myit))\n",
    "print(next(myit))\n",
    "print(next(myit))\n",
    "print(next(myit))\n",
    "\n",
    "\n",
    "# for loop\n",
    "# Iterate the values of a tuple:\n",
    "mytuple = (\"apple\", \"banana\", \"cherry\")\n",
    "\n",
    "print()\n",
    "for x in mytuple:\n",
    "  print(x) \n",
    "\n",
    "print()\n",
    "for i in range(len(mytuple)):\n",
    "  print(mytuple[i])\n",
    "\n",
    "print()\n",
    "myiter=iter(mytuple)\n",
    "print(myiter)\n",
    "for i in range(len(mytuple)):\n",
    "  print(next(myiter))"
   ]
  },
  {
   "cell_type": "markdown",
   "metadata": {},
   "source": [
    "# Create an Iterator\n",
    "* To create an object/class as an iterator you have to implement the methods __iter__() and __next__() to your\n",
    "    object.\n",
    "* As you have learned in the Python Classes/Objects chapter, all classes have a function called __init__(),\n",
    "    which allows you to do some initializing when the object is being created.\n",
    "* The __iter__() method acts similar, you can do operations (initializing etc.), but must always return the\n",
    "    iterator object itself.\n",
    "* The __next__() method also allows you to do operations, and must return the next item in the sequence."
   ]
  },
  {
   "cell_type": "code",
   "execution_count": null,
   "metadata": {},
   "outputs": [],
   "source": [
    "# Create an iterator that returns numbers, starting with 1, \n",
    "# and each sequence will increase by one (returning 1,2,3,4,5 etc.)\n",
    "class MyNumbers:\n",
    "  \"\"\"def __init__(self):\n",
    "    self.a=2\"\"\"\n",
    "  \n",
    "  def __iter__(self):\n",
    "    self.a = 1\n",
    "    return self\n",
    "\n",
    "  def __next__(self):\n",
    "    x = self.a\n",
    "    self.a += 1\n",
    "    return x\n",
    "\n",
    "myclass = MyNumbers()\n",
    "myiter = iter(myclass)  # When you use the iter() function to obtain an iterator from an object, it calls the __iter__ method of that object.\n",
    "\n",
    "print(next(myiter)) \n",
    "# Calls the next() function to retrieve the next value from the iterator (myiter). This invokes the __next__ method of the iterator.\n",
    "# The __next__ method returns the current value of self.a (which is 1) and increments it by 1.\n",
    "print(next(myiter))  \n",
    "print(next(myiter))\n",
    "print(next(myiter))\n",
    "print(next(myiter)) \n",
    "\n",
    "# An instance of MyNumbers is created with myclass = MyNumbers().\n",
    "# iter() function is used to obtain an iterator from the instance, and it is assigned to myiter with myiter = iter(myclass).\n",
    "# The next() function is used to retrieve the next value from the iterator.\n",
    "# Each time next(myiter) is called, it invokes the __next__ method of the iterator (MyNumbers class) which returns the current value of a and increments it.\n",
    "\n",
    "# Initialization: The __iter__ method initializes the iterator. In your case, it sets the instance variable a to 1. This variable is used to keep track of the current state of the iteration.\n",
    "# Return: The __iter__ method returns the iterator object, typically self. This is necessary for the object to be considered an iterable.\n",
    "\n"
   ]
  },
  {
   "cell_type": "markdown",
   "metadata": {},
   "source": [
    "# StopIteration\n",
    "* The example above would continue forever if you had enough next() statements, or if it was used in a for loop.\n",
    "* To prevent the iteration to go on forever, we can use the StopIteration statement.\n",
    "* In the __next__() method, we can add a terminating condition to raise an error if the iteration is done a\n",
    "    specified number of times"
   ]
  },
  {
   "cell_type": "code",
   "execution_count": 69,
   "metadata": {},
   "outputs": [
    {
     "name": "stdout",
     "output_type": "stream",
     "text": [
      "iter 1\n",
      "next 1 1\n",
      "1\n",
      "next 2 2\n",
      "2\n",
      "next 3 3\n",
      "3\n",
      "next 4 4\n",
      "4\n",
      "next 5 5\n",
      "5\n",
      "next 6 6\n",
      "6\n",
      "next 7 7\n",
      "7\n",
      "next 8 8\n",
      "8\n",
      "next 9 9\n",
      "9\n",
      "next 10 10\n",
      "10\n",
      "next 11 11\n",
      "11\n",
      "next 12 12\n",
      "12\n",
      "next 13 13\n",
      "13\n",
      "next 14 14\n",
      "14\n",
      "next 15 15\n",
      "15\n",
      "next 16 16\n",
      "16\n",
      "next 17 17\n",
      "17\n",
      "next 18 18\n",
      "18\n",
      "next 19 19\n",
      "19\n",
      "next 20 20\n",
      "20\n"
     ]
    }
   ],
   "source": [
    "# Stop after 20 iterations:\n",
    "class MyNumbers:\n",
    "  def __iter__(self):\n",
    "    self.a = 1  # Initializes an instance variable a with the value 1. This variable will be used to keep track of the current state of the iteration.\n",
    "    print(\"iter\",self.a)\n",
    "    return self # Returns the instance itself (self) as the iterator object. This is a common convention in Python: the __iter__ method should return an iterator object\n",
    "\n",
    "  def __next__(self):\n",
    "    if self.a <= 20:\n",
    "      x = self.a\n",
    "      print(\"next\",self.a,x)\n",
    "      self.a += 1\n",
    "      return x\n",
    "    else:\n",
    "      raise StopIteration  #  It is used to signal the end of iteration in situations where an iterator has no more items to yield.\n",
    "\n",
    "myclass = MyNumbers()\n",
    "myiter = iter(myclass)\n",
    "# iter(myclass) essentially calls myclass.__iter__(), \n",
    "# and myiter becomes the iterator object that you can use to iterate over the sequence of values produced by the __next__ method of the iterator.\n",
    "\n",
    "for i in range(20): # Try this-- for x in myiter:\n",
    "  #print(x)\n",
    "  print(next(myiter))"
   ]
  },
  {
   "cell_type": "code",
   "execution_count": 8,
   "metadata": {},
   "outputs": [
    {
     "name": "stdout",
     "output_type": "stream",
     "text": [
      "2497425801024\n",
      "140735334404904\n",
      "140735334404968\n",
      "140735334405064\n",
      "140735334405000\n"
     ]
    }
   ],
   "source": [
    "x=[1,3,6,4]\n",
    "print(id(x))\n",
    "print(id(x[0]))\n",
    "print(id(x[1]))\n",
    "print(id(x[2]))\n",
    "print(id(x[3]))"
   ]
  }
 ],
 "metadata": {
  "kernelspec": {
   "display_name": "Python 3",
   "language": "python",
   "name": "python3"
  },
  "language_info": {
   "codemirror_mode": {
    "name": "ipython",
    "version": 3
   },
   "file_extension": ".py",
   "mimetype": "text/x-python",
   "name": "python",
   "nbconvert_exporter": "python",
   "pygments_lexer": "ipython3",
   "version": "3.11.9"
  }
 },
 "nbformat": 4,
 "nbformat_minor": 2
}
