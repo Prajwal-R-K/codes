{
 "cells": [
  {
   "cell_type": "markdown",
   "metadata": {},
   "source": [
    "# math.ceil(x)\n",
    "Return the ceiling of x, the smallest integer greater than or equal to x\n",
    "\n",
    "# math.floor(x)\n",
    "Return the floor of x, the largest integer less than or equal to x\n",
    "\n",
    "# math.comb(n, k)\n",
    "* Return the number of ways to choose k items from n items without repetition and without order.\n",
    "* Evaluates to n! / (k! * (n - k)!) when k <= n and evaluates to zero when k > n.\n",
    "* Also called the binomial coefficient because it is equivalent to the coefficient of k-th term in polynomial expansion of (1 + x)ⁿ.\n",
    "* Raises TypeError if either of the arguments are not integers. Raises ValueError if either of the arguments are negative."
   ]
  },
  {
   "cell_type": "code",
   "execution_count": null,
   "metadata": {},
   "outputs": [
    {
     "ename": "",
     "evalue": "",
     "output_type": "error",
     "traceback": [
      "\u001b[1;31mRunning cells with 'Python 3.11.9' requires the ipykernel package.\n",
      "\u001b[1;31mRun the following command to install 'ipykernel' into the Python environment. \n",
      "\u001b[1;31mCommand: 'c:/Users/Administrator/AppData/Local/Microsoft/WindowsApps/python3.11.exe -m pip install ipykernel -U --user --force-reinstall'"
     ]
    }
   ],
   "source": [
    "import math\n",
    "a=4.7\n",
    "print(math.floor(a))\n",
    "print(math.ceil(a))  \n",
    "\n",
    "print(math.pow(0,0))   # 0 ** 0 to be 1, as is common for programming languages"
   ]
  },
  {
   "cell_type": "code",
   "execution_count": 5,
   "metadata": {},
   "outputs": [
    {
     "name": "stdout",
     "output_type": "stream",
     "text": [
      "10\n"
     ]
    }
   ],
   "source": [
    "# Binomial distribution\n",
    "res=math.comb(5,2)\n",
    "print(res)"
   ]
  },
  {
   "cell_type": "markdown",
   "metadata": {},
   "source": [
    "# math.copysign(x, y)\n",
    "Return a float with the magnitude (absolute value) of x but the sign of y. \n",
    "eg : On platforms that support signed zeros, copysign(1.0, -0.0) returns -1.0"
   ]
  },
  {
   "cell_type": "code",
   "execution_count": 9,
   "metadata": {},
   "outputs": [
    {
     "name": "stdout",
     "output_type": "stream",
     "text": [
      "-1.34\n",
      "-1.34\n",
      "1.34\n",
      "1.34\n"
     ]
    }
   ],
   "source": [
    "print(math.copysign(1.34,-12))\n",
    "print(math.copysign(-1.34,-12))\n",
    "print(math.copysign(-1.34,12))\n",
    "print(math.copysign(1.34,12))"
   ]
  },
  {
   "cell_type": "markdown",
   "metadata": {},
   "source": [
    "# math.fabs(x)\n",
    "Return the absolute value of x.\n",
    "\n",
    "# math.factorial(n)\n",
    "Return n factorial as an integer. Raises ValueError if n is not integral or is negative"
   ]
  },
  {
   "cell_type": "code",
   "execution_count": 13,
   "metadata": {},
   "outputs": [
    {
     "name": "stdout",
     "output_type": "stream",
     "text": [
      "2.0\n",
      "2.0\n",
      "2\n",
      "120\n"
     ]
    }
   ],
   "source": [
    "a=math.fabs(-2)  # returns float\n",
    "print(a)\n",
    "a=math.fabs(2)\n",
    "print(a)\n",
    "a=abs(-2)   # returns integer\n",
    "print(a)\n",
    "a=math.factorial(5)\n",
    "print(a)\n"
   ]
  },
  {
   "cell_type": "markdown",
   "metadata": {},
   "source": [
    "# math.fmod(x, y)  \n",
    "returns x % y  -- Reminder of x/y"
   ]
  },
  {
   "cell_type": "code",
   "execution_count": 17,
   "metadata": {},
   "outputs": [
    {
     "name": "stdout",
     "output_type": "stream",
     "text": [
      "0.0\n",
      "1.0\n"
     ]
    }
   ],
   "source": [
    "a=math.fmod(4,2)\n",
    "print(a)\n",
    "\n",
    "a=math.fmod(5,2)\n",
    "print(a)\n"
   ]
  },
  {
   "cell_type": "markdown",
   "metadata": {},
   "source": [
    "# math.frexp(x)\n",
    "* Return the mantissa and exponent of x as the pair (m, e).\n",
    "* m is a float and e is an integer such that x == m * 2**e exactly. \n",
    "* If x is zero, returns (0.0, 0), otherwise 0.5 <= abs(m) < 1"
   ]
  },
  {
   "cell_type": "code",
   "execution_count": 25,
   "metadata": {},
   "outputs": [
    {
     "name": "stdout",
     "output_type": "stream",
     "text": [
      "0 - (0.0, 0)\n",
      "1 - (0.5, 1)\n",
      "2 - (0.5, 2)\n",
      "3 - (0.75, 2)\n",
      "4 - (0.5, 3)\n",
      "5 - (0.625, 3)\n",
      "6 - (0.75, 3)\n",
      "7 - (0.875, 3)\n",
      "8 - (0.5, 4)\n",
      "9 - (0.5625, 4)\n",
      "10 - (0.625, 4)\n"
     ]
    }
   ],
   "source": [
    "for i in range(0,11):\n",
    "    print(i,'-',math.frexp(i))\n"
   ]
  },
  {
   "cell_type": "markdown",
   "metadata": {},
   "source": [
    "# math.fsum(iterable)\n",
    "Return an accurate floating point sum of values in the iterable. \n",
    "Avoids loss of precision by tracking multiple intermediate partial sums."
   ]
  },
  {
   "cell_type": "code",
   "execution_count": 28,
   "metadata": {},
   "outputs": [
    {
     "name": "stdout",
     "output_type": "stream",
     "text": [
      "30.0\n",
      "30.0\n",
      "36.0\n"
     ]
    }
   ],
   "source": [
    "a=[1,2,4,6,2,7,8,0]\n",
    "print(math.fsum(a))\n",
    "a=(1,2,4,6,2,7,8,0)\n",
    "print(math.fsum(a))\n",
    "a=range(9)\n",
    "print(math.fsum(a))"
   ]
  },
  {
   "cell_type": "markdown",
   "metadata": {},
   "source": [
    "# math.gcd(*integers)\n",
    "* Return the greatest common divisor of the specified integer arguments.\n",
    "* If any of the arguments is nonzero, then the returned value is the largest positive integer that is a divisor of all arguments.\n",
    "* If all arguments are zero, then the returned value is 0. gcd() without arguments returns 0."
   ]
  },
  {
   "cell_type": "code",
   "execution_count": 36,
   "metadata": {},
   "outputs": [
    {
     "name": "stdout",
     "output_type": "stream",
     "text": [
      "1\n",
      "1\n",
      "0\n",
      "20\n"
     ]
    }
   ],
   "source": [
    "a=math.gcd(4,2,4,7,8)\n",
    "print(a)\n",
    "\n",
    "a=math.gcd(4,5)\n",
    "print(a)\n",
    "\n",
    "a=math.gcd()\n",
    "print(a)\n",
    "\n",
    "a=math.gcd(40,100,200)\n",
    "print(a)"
   ]
  },
  {
   "cell_type": "code",
   "execution_count": 16,
   "metadata": {},
   "outputs": [
    {
     "name": "stdout",
     "output_type": "stream",
     "text": [
      "4\n",
      "2.33\n"
     ]
    }
   ],
   "source": [
    "# math.trunc(x)  --  x truncated to Integral\n",
    "print(math.trunc(4.7))\n",
    "\n",
    "# round(x,n) -- x rounded to n digits, rounding half to even. If n is omitted, it defaults to 0.\n",
    "print(round(2.3254,2))"
   ]
  },
  {
   "cell_type": "markdown",
   "metadata": {},
   "source": [
    "# math.isclose(a, b, *, rel_tol=1e-09, abs_tol=0.0)\n",
    "* Return True if the values a and b are close to each other and False otherwise.\n",
    "* Whether or not two values are considered close is determined according to given absolute and relative tolerances.\n",
    "* rel_tol is the relative tolerance – it is the maximum allowed difference between a and b, relative to the larger absolute value of a or b.\n",
    "* the result will be: abs(a-b) <= max(rel_tol * max(abs(a), abs(b)), abs_tol)."
   ]
  },
  {
   "cell_type": "code",
   "execution_count": 32,
   "metadata": {},
   "outputs": [
    {
     "name": "stdout",
     "output_type": "stream",
     "text": [
      "False\n",
      "False\n",
      "True\n",
      "True\n",
      "True\n",
      "True\n",
      "True\n",
      "False\n"
     ]
    }
   ],
   "source": [
    "print(math.isclose(1,6,rel_tol=1e-09, abs_tol=2.0))\n",
    "print(math.isclose(1,-3,rel_tol=1e-09, abs_tol=2.0))\n",
    "print(math.isclose(1,-1,rel_tol=1e-09, abs_tol=2.0))\n",
    "print(math.isclose(1,0,rel_tol=1e-09, abs_tol=2.0))\n",
    "print(math.isclose(1,1,rel_tol=1e-09, abs_tol=2.0))\n",
    "print(math.isclose(1,2,rel_tol=1e-09, abs_tol=2.0))\n",
    "print(math.isclose(1,3,rel_tol=1e-09, abs_tol=2.0))\n",
    "print(math.isclose(1,4,rel_tol=1e-09, abs_tol=2.0))"
   ]
  },
  {
   "cell_type": "markdown",
   "metadata": {},
   "source": [
    "# math.isfinite(x)\n",
    "Return True if x is neither an infinity nor a NaN, and False otherwise. (Note that 0.0 is considered finite.)\n",
    "\n",
    "# math.isinf(x)\n",
    "Return True if x is a positive or negative infinity, and False otherwise.\n",
    "\n",
    "# math.isnan(x)\n",
    "Return True if x is a NaN (not a number), and False otherwise."
   ]
  },
  {
   "cell_type": "code",
   "execution_count": 51,
   "metadata": {},
   "outputs": [
    {
     "name": "stdout",
     "output_type": "stream",
     "text": [
      "True\n",
      "False\n",
      "False\n"
     ]
    }
   ],
   "source": [
    "print(math.isfinite(1.3))\n",
    "\n",
    "print(math.isinf(3))\n",
    "\n",
    "print(math.isnan(2))"
   ]
  }
 ],
 "metadata": {
  "kernelspec": {
   "display_name": "Python 3",
   "language": "python",
   "name": "python3"
  },
  "language_info": {
   "codemirror_mode": {
    "name": "ipython",
    "version": 3
   },
   "file_extension": ".py",
   "mimetype": "text/x-python",
   "name": "python",
   "nbconvert_exporter": "python",
   "pygments_lexer": "ipython3",
   "version": "3.11.9"
  }
 },
 "nbformat": 4,
 "nbformat_minor": 2
}
