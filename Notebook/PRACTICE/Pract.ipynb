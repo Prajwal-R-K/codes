{
 "cells": [
  {
   "cell_type": "markdown",
   "metadata": {},
   "source": [
    "## Day of the week\n"
   ]
  },
  {
   "cell_type": "code",
   "execution_count": 5,
   "metadata": {},
   "outputs": [
    {
     "name": "stdout",
     "output_type": "stream",
     "text": [
      "Invalid Month\n"
     ]
    },
    {
     "ename": "SystemExit",
     "evalue": "",
     "output_type": "error",
     "traceback": [
      "An exception has occurred, use %tb to see the full traceback.\n",
      "\u001b[1;31mSystemExit\u001b[0m\n"
     ]
    },
    {
     "name": "stderr",
     "output_type": "stream",
     "text": [
      "C:\\Users\\Administrator\\AppData\\Local\\Packages\\PythonSoftwareFoundation.Python.3.11_qbz5n2kfra8p0\\LocalCache\\local-packages\\Python311\\site-packages\\IPython\\core\\interactiveshell.py:3561: UserWarning: To exit: use 'exit', 'quit', or Ctrl-D.\n",
      "  warn(\"To exit: use 'exit', 'quit', or Ctrl-D.\", stacklevel=1)\n"
     ]
    }
   ],
   "source": [
    "import sys\n",
    "class Year:\n",
    "    def __init__(self,year):\n",
    "        self.year=year\n",
    "    def century_digits(self):\n",
    "        return(self.year/100)\n",
    "    def year_digits(self):\n",
    "        return(self.year%100)\n",
    "    def leap_year(self):\n",
    "        return True if((self.year%4==0 and self.year%100!=0) or self.year%400==0) else False\n",
    "\n",
    "class Month:\n",
    "    def __init__(self,month):\n",
    "        self.month=month\n",
    "    def val(self,year):\n",
    "        l=year.leap_year()\n",
    "        if(self.month.lower()==\"january\" or self.month==\"1\"):\n",
    "            if(not l):return 1 \n",
    "            else :return 0\n",
    "        elif(self.month.lower()==\"february\" or self.month==\"2\"):\n",
    "            if(l):return 3\n",
    "            else:return 4\n",
    "        elif(self.month.lower()==\"march\" or self.month.lower()==\"november\" or self.month==\"3\" or self.month==\"11\"):\n",
    "            return 4\n",
    "        elif(self.month.lower()==\"may\" or self.month==\"5\"):return 2\n",
    "        elif(self.month.lower()==\"june\" or self.month==\"6\"):return 5\n",
    "        elif(self.month.lower()==\"august\" or self.month==\"8\"):return 3\n",
    "        elif(self.month.lower()==\"october\" or self.month==\"10\"):return 1\n",
    "        elif(self.month.lower()==\"september\" or self.month.lower()==\"december\" or self.month==\"9\" or self.month==\"12\"):return 6\n",
    "        elif(self.month.lower()==\"april\" or self.month.lower()==\"july\" or self.month.lower()==\"4\" or self.month.lower()==\"7\"):return 0\n",
    "        else:\n",
    "            print(\"Invalid Month\")\n",
    "            sys.exit()\n",
    "            return 0\n",
    "\n",
    "class Day:\n",
    "    def day(self,value):\n",
    "        value=int(value%7)\n",
    "        if(value==2):print(\"Sunday\")\n",
    "        elif(value==3):print(\"Monday\")\n",
    "        elif(value==4):print(\"Tuesday\")\n",
    "        elif(value==5):print(\"Wednesday\")\n",
    "        elif(value==6):print(\"Thursday\")\n",
    "        elif(value==0):print(\"Friday\")\n",
    "        elif(value==1):print(\"Saturday\")\n",
    "\n",
    "year=int(input(\"Enter the year:\"))\n",
    "month=input(\"Enter the month:\")\n",
    "date=int(input(\"Enter the date:\"))\n",
    "\n",
    "Y=Year(year)\n",
    "M=Month(month)\n",
    "D=Day()\n",
    "cd=Y.century_digits()\n",
    "yd=Y.year_digits()\n",
    "\n",
    "value=yd+(yd//4)\n",
    "\n",
    "if(cd==18):value+=2\n",
    "if(cd==20):value+=6\n",
    "\n",
    "value+=M.val(Y)\n",
    "value+=date\n",
    "\n",
    "D.day(value)\n",
    "\n",
    "\n",
    "    "
   ]
  },
  {
   "cell_type": "code",
   "execution_count": 9,
   "metadata": {},
   "outputs": [
    {
     "name": "stdout",
     "output_type": "stream",
     "text": [
      "Wednesday\n"
     ]
    }
   ],
   "source": [
    "import sys\n",
    "\n",
    "class Year:\n",
    "    def __init__(self, year):\n",
    "        self.year = year\n",
    "\n",
    "    def century_digits(self):\n",
    "        return self.year // 100\n",
    "\n",
    "    def year_digits(self):\n",
    "        return self.year % 100\n",
    "\n",
    "    def leap_year(self):\n",
    "        return True if ((self.year % 4 == 0 and self.year % 100 != 0) or self.year % 400 == 0) else False\n",
    "\n",
    "class Month:\n",
    "    def __init__(self, month):\n",
    "        self.month = month\n",
    "\n",
    "    def val(self, year):\n",
    "        l = year.leap_year()\n",
    "        if self.month.lower() in [\"january\", \"1\"]:\n",
    "            if not l:\n",
    "                return 1\n",
    "            else:\n",
    "                return 0\n",
    "        elif self.month.lower() in [\"february\", \"2\"]:\n",
    "            if l:\n",
    "                return 3\n",
    "            else:\n",
    "                return 4\n",
    "        elif self.month.lower() in [\"march\", \"november\", \"3\", \"11\"]:\n",
    "            return 4\n",
    "        elif self.month.lower() in [\"may\", \"5\"]:\n",
    "            return 2\n",
    "        elif self.month.lower() in [\"june\", \"6\"]:\n",
    "            return 5\n",
    "        elif self.month.lower() in [\"august\", \"8\"]:\n",
    "            return 3\n",
    "        elif self.month.lower() in [\"october\", \"10\"]:\n",
    "            return 1\n",
    "        elif self.month.lower() in [\"september\", \"december\", \"9\", \"12\"]:\n",
    "            return 6\n",
    "        elif self.month.lower() in [\"april\", \"july\", \"4\", \"7\"]:\n",
    "            return 0\n",
    "        else:\n",
    "            print(\"Invalid Month\")\n",
    "            sys.exit()\n",
    "\n",
    "class Day:\n",
    "    def day(self, value):\n",
    "        value = int(value % 7)\n",
    "        if value == 1:\n",
    "            print(\"Sunday\")\n",
    "        elif value == 2:\n",
    "            print(\"Monday\")\n",
    "        elif value == 3:\n",
    "            print(\"Tuesday\")\n",
    "        elif value == 4:\n",
    "            print(\"Wednesday\")\n",
    "        elif value == 5:\n",
    "            print(\"Thursday\")\n",
    "        elif value == 6:\n",
    "            print(\"Friday\")\n",
    "        elif value == 0:\n",
    "            print(\"Saturday\")\n",
    "\n",
    "year = int(input(\"Enter the year:\"))\n",
    "month = input(\"Enter the month:\")\n",
    "date = int(input(\"Enter the date:\"))\n",
    "\n",
    "Y = Year(year)\n",
    "M = Month(month)\n",
    "D = Day()\n",
    "cd = Y.century_digits()\n",
    "yd = Y.year_digits()\n",
    "\n",
    "value = yd + (yd // 4)\n",
    "\n",
    "if cd == 18:\n",
    "    value += 2\n",
    "if cd == 20:\n",
    "    value += 6\n",
    "\n",
    "value += M.val(Y)\n",
    "value += date\n",
    "\n",
    "D.day(value)\n"
   ]
  },
  {
   "cell_type": "code",
   "execution_count": 4,
   "metadata": {},
   "outputs": [
    {
     "name": "stdout",
     "output_type": "stream",
     "text": [
      "12 10\n",
      "10 12\n"
     ]
    }
   ],
   "source": [
    "# Swapping without using temporary variable\n",
    "\n",
    "a=12\n",
    "b=10\n",
    "print(a,b)\n",
    "a=a+b  # OR a,b = b,a\n",
    "b=a-b\n",
    "a=a-b\n",
    "print(a,b)"
   ]
  },
  {
   "cell_type": "code",
   "execution_count": 18,
   "metadata": {},
   "outputs": [
    {
     "name": "stdout",
     "output_type": "stream",
     "text": [
      "unsorted list1 is [9, 16, 6, 26, 0]\n",
      "[9, 16, 6, 26, 0]\n",
      "[9, 6, 16, 26, 0]\n",
      "[9, 6, 16, 26, 0]\n",
      "[9, 6, 16, 0, 26]\n",
      "\n",
      "[6, 9, 16, 0, 26]\n",
      "[6, 9, 16, 0, 26]\n",
      "[6, 9, 0, 16, 26]\n",
      "\n",
      "[6, 9, 0, 16, 26]\n",
      "[6, 0, 9, 16, 26]\n",
      "\n",
      "[0, 6, 9, 16, 26]\n",
      "\n",
      "sorted list is [0, 6, 9, 16, 26]\n"
     ]
    }
   ],
   "source": [
    "list1=[9,16,6,26,0] \n",
    "print(\"unsorted list1 is\", list1) \n",
    "for j in range(len(list1)-1): \n",
    "    for i in range(len(list1)-j-1): \n",
    "        if list1[i]>list1[i+1]: \n",
    "            list1[i],list1[i+1]=list1[i+1],list1[i]\n",
    "            print(list1) \n",
    "        else: \n",
    "         print(list1) \n",
    "    print( ) \n",
    "print(\"sorted list is\",list1)\n"
   ]
  },
  {
   "cell_type": "code",
   "execution_count": 5,
   "metadata": {},
   "outputs": [
    {
     "name": "stdout",
     "output_type": "stream",
     "text": [
      "\n",
      "['c:\\\\Users\\\\Administrator\\\\Desktop\\\\codes\\\\Notebook\\\\PRACTICE', 'C:\\\\Program Files\\\\WindowsApps\\\\PythonSoftwareFoundation.Python.3.11_3.11.2544.0_x64__qbz5n2kfra8p0\\\\python311.zip', 'C:\\\\Program Files\\\\WindowsApps\\\\PythonSoftwareFoundation.Python.3.11_3.11.2544.0_x64__qbz5n2kfra8p0\\\\DLLs', 'C:\\\\Program Files\\\\WindowsApps\\\\PythonSoftwareFoundation.Python.3.11_3.11.2544.0_x64__qbz5n2kfra8p0\\\\Lib', 'C:\\\\Program Files\\\\WindowsApps\\\\PythonSoftwareFoundation.Python.3.11_3.11.2544.0_x64__qbz5n2kfra8p0', '', 'C:\\\\Users\\\\Administrator\\\\AppData\\\\Local\\\\Packages\\\\PythonSoftwareFoundation.Python.3.11_qbz5n2kfra8p0\\\\LocalCache\\\\local-packages\\\\Python311\\\\site-packages', 'C:\\\\Users\\\\Administrator\\\\AppData\\\\Local\\\\Packages\\\\PythonSoftwareFoundation.Python.3.11_qbz5n2kfra8p0\\\\LocalCache\\\\local-packages\\\\Python311\\\\site-packages\\\\win32', 'C:\\\\Users\\\\Administrator\\\\AppData\\\\Local\\\\Packages\\\\PythonSoftwareFoundation.Python.3.11_qbz5n2kfra8p0\\\\LocalCache\\\\local-packages\\\\Python311\\\\site-packages\\\\win32\\\\lib', 'C:\\\\Users\\\\Administrator\\\\AppData\\\\Local\\\\Packages\\\\PythonSoftwareFoundation.Python.3.11_qbz5n2kfra8p0\\\\LocalCache\\\\local-packages\\\\Python311\\\\site-packages\\\\Pythonwin', 'C:\\\\Program Files\\\\WindowsApps\\\\PythonSoftwareFoundation.Python.3.11_3.11.2544.0_x64__qbz5n2kfra8p0\\\\Lib\\\\site-packages']\n",
      "hello from Python 3.11.9 (tags/v3.11.9:de54cf5, Apr  2 2024, 10:12:12) [MSC v.1938 64 bit (AMD64)]\n"
     ]
    },
    {
     "data": {
      "text/plain": [
       "99"
      ]
     },
     "execution_count": 5,
     "metadata": {},
     "output_type": "execute_result"
    }
   ],
   "source": [
    "import sys\n",
    "print()\n",
    "print(sys.path)\n",
    "sys.stdout.write(\"hello from Python %s\\n\" % (sys.version,))\n"
   ]
  }
 ],
 "metadata": {
  "kernelspec": {
   "display_name": "Python 3",
   "language": "python",
   "name": "python3"
  },
  "language_info": {
   "codemirror_mode": {
    "name": "ipython",
    "version": 3
   },
   "file_extension": ".py",
   "mimetype": "text/x-python",
   "name": "python",
   "nbconvert_exporter": "python",
   "pygments_lexer": "ipython3",
   "version": "3.11.9"
  }
 },
 "nbformat": 4,
 "nbformat_minor": 2
}
