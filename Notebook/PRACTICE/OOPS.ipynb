{
 "cells": [
  {
   "cell_type": "markdown",
   "metadata": {},
   "source": [
    "# CREATING CLASS"
   ]
  },
  {
   "cell_type": "code",
   "execution_count": 1,
   "metadata": {},
   "outputs": [],
   "source": [
    "# Creating an Empty class\n",
    "\n",
    "class Empty:\n",
    "    pass            "
   ]
  },
  {
   "cell_type": "markdown",
   "metadata": {},
   "source": [
    "# pass keyword\n",
    "    The pass statement is essentially a way of saying \"do nothing.\"\n",
    "    The pass statement ensures that the indentation and structure of your code remain valid while allowing you to defer the implementation of  \n",
    "            specific code sections. It's a useful tool during development when you want to create a placeholder for future work.\n",
    "    If some code to be executed, but you haven't implemented that code yet. Using pass allows the code to remain syntactically correct."
   ]
  },
  {
   "cell_type": "code",
   "execution_count": 11,
   "metadata": {},
   "outputs": [
    {
     "name": "stdout",
     "output_type": "stream",
     "text": [
      "<class 'int'>\n",
      "<class 'str'>\n",
      "<class '__main__.Myclass'>\n"
     ]
    }
   ],
   "source": [
    "class Myclass:\n",
    "    def a(self):        #defining method a()\n",
    "        b=10\n",
    "        print(\"MyClass\")\n",
    "obj=Myclass()       #Myclass() calls Default Constructor and we are creating an object(obj) of class(Myclass)\n",
    "int_obj=3           #Integer type\n",
    "str_obj='qwer'      #String type\n",
    "print(type(int_obj))\n",
    "print(type(str_obj))\n",
    "print(type(obj))\n"
   ]
  },
  {
   "cell_type": "markdown",
   "metadata": {},
   "source": [
    "In above \"int\" is class and \"str\" is also class\n",
    "Myclass is also class\n",
    "The difference is \"int\" and \"str\" is Built-in-class and \"Myclass\" is our class(User defined class)\n",
    "int_obj(variable) is object of \"int\"(integer)\n",
    "str_obj(variable) is object of \"str\"(String)"
   ]
  },
  {
   "cell_type": "markdown",
   "metadata": {},
   "source": [
    "# How to access the methods or variables of class\n",
    "    There are two ways as shown in below\n"
   ]
  },
  {
   "cell_type": "code",
   "execution_count": 14,
   "metadata": {},
   "outputs": [
    {
     "name": "stdout",
     "output_type": "stream",
     "text": [
      "Accesed\n",
      "Accesed\n",
      "Accesed\n",
      "Accesed\n"
     ]
    }
   ],
   "source": [
    "class Computer:\n",
    "    def method(self):                   # self is parameter\n",
    "        print(\"Accesed\")\n",
    "a=Computer() # Creating an object of Computer and the reference is stored in a variable of type Computer.\n",
    "b=Computer()\n",
    "Computer.method(a) #Method 1 # Here we are passing b as an argument\n",
    "a.method()       #Method 2 # In this the \"a\" is passeed by default ;here \"a\" is object and object itself is passing an object as an argument.\n",
    "\n",
    "Computer.method(b) #Method 1  # Here we are passing b as an argument\n",
    "b.method()       #Method 2 # In this the \"b\" is passeed by default ;here \"b\" is object and object itself is passing an object as an argument\n",
    "\n",
    "\n",
    "# In method 2 we are not passing an argument,it is done automatically"
   ]
  },
  {
   "cell_type": "markdown",
   "metadata": {},
   "source": [
    "# __init__ Method\n",
    "\n",
    "    The __init__ method is the constructor, which is called when you create an instance of the class(object).\n",
    "\n",
    "    self - a reference to the instance being created"
   ]
  },
  {
   "cell_type": "code",
   "execution_count": 25,
   "metadata": {},
   "outputs": [
    {
     "name": "stdout",
     "output_type": "stream",
     "text": [
      "100\n",
      "swedrf 23 0 0 1\n",
      "wert 34 0 1 1\n",
      "fgh 67 0 2 1\n",
      "fgh 67 0 3 1\n",
      "<class 'NoneType'>\n",
      "<class '__main__.Computer'>\n",
      "3\n",
      "0\n",
      "2\n",
      "67\n"
     ]
    }
   ],
   "source": [
    "class Computer:\n",
    "    a=100 # Class Variable\n",
    "    b=2\n",
    "    def __init__(self,name,age,num):\n",
    "        self.a=0 # Instance variable specific to each object\n",
    "        Computer.a=num # Changing class variable\n",
    "        b=1  \n",
    "        self.name=name\n",
    "        self.age=age\n",
    "        print(self.name,self.age,self.a,Computer.a,b)\n",
    "print(Computer.a)\n",
    "a=Computer(\"swedrf\",23,0)\n",
    "b=Computer(\"wert\",34,1)\n",
    "# c=Computer() #ERROR\n",
    "Computer.__init__(a,\"fgh\",67,2)\n",
    "c=Computer.__init__(a,\"fgh\",67,3)\n",
    "print(type(c))\n",
    "print(type(a))\n",
    "print(Computer.a)\n",
    "print(a.a)\n",
    "print(a.b) # Refers to class Variable\n",
    "print(a.age)\n"
   ]
  },
  {
   "cell_type": "code",
   "execution_count": 49,
   "metadata": {},
   "outputs": [
    {
     "name": "stdout",
     "output_type": "stream",
     "text": [
      "tyu\n",
      "ERTY\n",
      "3\n"
     ]
    }
   ],
   "source": [
    "class Computer:\n",
    "    a=3\n",
    "    def __init__(self):\n",
    "        a=0\n",
    "        self.name=None\n",
    "a=Computer()\n",
    "b=Computer()\n",
    "a.name='tyu'\n",
    "b.name='ERTY'\n",
    "print(a.name)\n",
    "print(b.name)\n",
    "print(a.a)"
   ]
  },
  {
   "cell_type": "code",
   "execution_count": 45,
   "metadata": {},
   "outputs": [
    {
     "name": "stdout",
     "output_type": "stream",
     "text": [
      "tyu\n",
      "ERTY\n",
      "90\n",
      "67\n",
      "tyu 90\n",
      "ERTY 67\n",
      "tyu 90\n",
      "ERTY 67\n"
     ]
    }
   ],
   "source": [
    "class Computer:\n",
    "    a=3\n",
    "    def method(self):\n",
    "        print(self.name,self.age)\n",
    "a=Computer()\n",
    "b=Computer()\n",
    "a.name='tyu'\n",
    "a.age=90\n",
    "b.name='ERTY'\n",
    "b.age=67\n",
    "print(a.name)\n",
    "print(b.name)\n",
    "print(a.age)\n",
    "print(b.age)\n",
    "a.method()\n",
    "b.method()\n",
    "Computer.method(a)\n",
    "Computer.method(b)"
   ]
  }
 ],
 "metadata": {
  "kernelspec": {
   "display_name": "Python 3",
   "language": "python",
   "name": "python3"
  },
  "language_info": {
   "codemirror_mode": {
    "name": "ipython",
    "version": 3
   },
   "file_extension": ".py",
   "mimetype": "text/x-python",
   "name": "python",
   "nbconvert_exporter": "python",
   "pygments_lexer": "ipython3",
   "version": "3.11.7"
  }
 },
 "nbformat": 4,
 "nbformat_minor": 2
}
